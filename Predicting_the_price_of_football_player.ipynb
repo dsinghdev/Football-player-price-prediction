{
  "nbformat": 4,
  "nbformat_minor": 0,
  "metadata": {
    "colab": {
      "provenance": []
    },
    "kernelspec": {
      "name": "python3",
      "display_name": "Python 3"
    },
    "language_info": {
      "name": "python"
    }
  },
  "cells": [
    {
      "cell_type": "code",
      "execution_count": 161,
      "metadata": {
        "id": "0HHglXp-SRY6"
      },
      "outputs": [],
      "source": [
        "import numpy as np \n",
        "import pandas as pd \n",
        "import matplotlib.pyplot as plt\n",
        "\n",
        "import seaborn as sns \n",
        "import sklearn \n",
        "\n",
        "np.random.seed(42)"
      ]
    },
    {
      "cell_type": "code",
      "source": [
        "from google.colab import drive\n",
        "drive.mount('/content/gdrive')"
      ],
      "metadata": {
        "colab": {
          "base_uri": "https://localhost:8080/"
        },
        "id": "MfCjIfXNTt3X",
        "outputId": "26f0f6ab-a4f1-414e-ec48-b8a0f6cc0dca"
      },
      "execution_count": 162,
      "outputs": [
        {
          "output_type": "stream",
          "name": "stdout",
          "text": [
            "Drive already mounted at /content/gdrive; to attempt to forcibly remount, call drive.mount(\"/content/gdrive\", force_remount=True).\n"
          ]
        }
      ]
    },
    {
      "cell_type": "code",
      "source": [
        "path = \"/content/gdrive/MyDrive/data_set/football_player_dataset.csv\""
      ],
      "metadata": {
        "id": "iosgCrydT4iy"
      },
      "execution_count": 163,
      "outputs": []
    },
    {
      "cell_type": "code",
      "source": [
        "df = pd.read_csv(path)"
      ],
      "metadata": {
        "id": "fP777xNIUKGQ"
      },
      "execution_count": 164,
      "outputs": []
    },
    {
      "cell_type": "markdown",
      "source": [
        "#Data investigation and Findings"
      ],
      "metadata": {
        "id": "LM4YupRXD0FE"
      }
    },
    {
      "cell_type": "code",
      "source": [
        "df"
      ],
      "metadata": {
        "colab": {
          "base_uri": "https://localhost:8080/",
          "height": 644
        },
        "id": "6nV1Gb9QYNXq",
        "outputId": "1bff3afb-60d6-4344-c9fc-3f2dc45cbc0f"
      },
      "execution_count": 165,
      "outputs": [
        {
          "output_type": "execute_result",
          "data": {
            "text/plain": [
              "                    name      club  age position  position_cat  market_value  \\\n",
              "0         Alexis Sanchez   Arsenal   28       LW             1          65.0   \n",
              "1             Mesut Ozil   Arsenal   28       AM             1          50.0   \n",
              "2              Petr Cech   Arsenal   35       GK             4           7.0   \n",
              "3           Theo Walcott   Arsenal   28       RW             1          20.0   \n",
              "4      Laurent Koscielny   Arsenal   31       CB             3          22.0   \n",
              "..                   ...       ...  ...      ...           ...           ...   \n",
              "456  Edimilson Fernandes  West+Ham   21       CM             2           5.0   \n",
              "457       Arthur Masuaku  West+Ham   23       LB             3           7.0   \n",
              "458            Sam Byram  West+Ham   23       RB             3           4.5   \n",
              "459      Ashley Fletcher  West+Ham   21       CF             1           1.0   \n",
              "460         Diafra Sakho  West+Ham   27       CF             1          10.0   \n",
              "\n",
              "     page_views  fpl_value fpl_sel  fpl_points  region     nationality  \\\n",
              "0          4329       12.0  17.10%         264     3.0           Chile   \n",
              "1          4395        9.5   5.60%         167     2.0         Germany   \n",
              "2          1529        5.5   5.90%         134     2.0  Czech Republic   \n",
              "3          2393        7.5   1.50%         122     1.0         England   \n",
              "4           912        6.0   0.70%         121     2.0          France   \n",
              "..          ...        ...     ...         ...     ...             ...   \n",
              "456         288        4.5   0.40%          38     2.0     Switzerland   \n",
              "457         199        4.5   0.20%          34     4.0        Congo DR   \n",
              "458         198        4.5   0.30%          29     1.0         England   \n",
              "459         412        4.5   5.90%          16     1.0         England   \n",
              "460         214        5.5   0.10%          12     4.0         Senegal   \n",
              "\n",
              "     new_foreign  age_cat  club_id  big_club  new_signing  \n",
              "0              0        4        1         1            0  \n",
              "1              0        4        1         1            0  \n",
              "2              0        6        1         1            0  \n",
              "3              0        4        1         1            0  \n",
              "4              0        4        1         1            0  \n",
              "..           ...      ...      ...       ...          ...  \n",
              "456            0        1       20         0            1  \n",
              "457            0        2       20         0            1  \n",
              "458            0        2       20         0            0  \n",
              "459            0        1       20         0            1  \n",
              "460            0        3       20         0            0  \n",
              "\n",
              "[461 rows x 17 columns]"
            ],
            "text/html": [
              "\n",
              "  <div id=\"df-4d955e33-43da-4340-a404-8850e17cf812\">\n",
              "    <div class=\"colab-df-container\">\n",
              "      <div>\n",
              "<style scoped>\n",
              "    .dataframe tbody tr th:only-of-type {\n",
              "        vertical-align: middle;\n",
              "    }\n",
              "\n",
              "    .dataframe tbody tr th {\n",
              "        vertical-align: top;\n",
              "    }\n",
              "\n",
              "    .dataframe thead th {\n",
              "        text-align: right;\n",
              "    }\n",
              "</style>\n",
              "<table border=\"1\" class=\"dataframe\">\n",
              "  <thead>\n",
              "    <tr style=\"text-align: right;\">\n",
              "      <th></th>\n",
              "      <th>name</th>\n",
              "      <th>club</th>\n",
              "      <th>age</th>\n",
              "      <th>position</th>\n",
              "      <th>position_cat</th>\n",
              "      <th>market_value</th>\n",
              "      <th>page_views</th>\n",
              "      <th>fpl_value</th>\n",
              "      <th>fpl_sel</th>\n",
              "      <th>fpl_points</th>\n",
              "      <th>region</th>\n",
              "      <th>nationality</th>\n",
              "      <th>new_foreign</th>\n",
              "      <th>age_cat</th>\n",
              "      <th>club_id</th>\n",
              "      <th>big_club</th>\n",
              "      <th>new_signing</th>\n",
              "    </tr>\n",
              "  </thead>\n",
              "  <tbody>\n",
              "    <tr>\n",
              "      <th>0</th>\n",
              "      <td>Alexis Sanchez</td>\n",
              "      <td>Arsenal</td>\n",
              "      <td>28</td>\n",
              "      <td>LW</td>\n",
              "      <td>1</td>\n",
              "      <td>65.0</td>\n",
              "      <td>4329</td>\n",
              "      <td>12.0</td>\n",
              "      <td>17.10%</td>\n",
              "      <td>264</td>\n",
              "      <td>3.0</td>\n",
              "      <td>Chile</td>\n",
              "      <td>0</td>\n",
              "      <td>4</td>\n",
              "      <td>1</td>\n",
              "      <td>1</td>\n",
              "      <td>0</td>\n",
              "    </tr>\n",
              "    <tr>\n",
              "      <th>1</th>\n",
              "      <td>Mesut Ozil</td>\n",
              "      <td>Arsenal</td>\n",
              "      <td>28</td>\n",
              "      <td>AM</td>\n",
              "      <td>1</td>\n",
              "      <td>50.0</td>\n",
              "      <td>4395</td>\n",
              "      <td>9.5</td>\n",
              "      <td>5.60%</td>\n",
              "      <td>167</td>\n",
              "      <td>2.0</td>\n",
              "      <td>Germany</td>\n",
              "      <td>0</td>\n",
              "      <td>4</td>\n",
              "      <td>1</td>\n",
              "      <td>1</td>\n",
              "      <td>0</td>\n",
              "    </tr>\n",
              "    <tr>\n",
              "      <th>2</th>\n",
              "      <td>Petr Cech</td>\n",
              "      <td>Arsenal</td>\n",
              "      <td>35</td>\n",
              "      <td>GK</td>\n",
              "      <td>4</td>\n",
              "      <td>7.0</td>\n",
              "      <td>1529</td>\n",
              "      <td>5.5</td>\n",
              "      <td>5.90%</td>\n",
              "      <td>134</td>\n",
              "      <td>2.0</td>\n",
              "      <td>Czech Republic</td>\n",
              "      <td>0</td>\n",
              "      <td>6</td>\n",
              "      <td>1</td>\n",
              "      <td>1</td>\n",
              "      <td>0</td>\n",
              "    </tr>\n",
              "    <tr>\n",
              "      <th>3</th>\n",
              "      <td>Theo Walcott</td>\n",
              "      <td>Arsenal</td>\n",
              "      <td>28</td>\n",
              "      <td>RW</td>\n",
              "      <td>1</td>\n",
              "      <td>20.0</td>\n",
              "      <td>2393</td>\n",
              "      <td>7.5</td>\n",
              "      <td>1.50%</td>\n",
              "      <td>122</td>\n",
              "      <td>1.0</td>\n",
              "      <td>England</td>\n",
              "      <td>0</td>\n",
              "      <td>4</td>\n",
              "      <td>1</td>\n",
              "      <td>1</td>\n",
              "      <td>0</td>\n",
              "    </tr>\n",
              "    <tr>\n",
              "      <th>4</th>\n",
              "      <td>Laurent Koscielny</td>\n",
              "      <td>Arsenal</td>\n",
              "      <td>31</td>\n",
              "      <td>CB</td>\n",
              "      <td>3</td>\n",
              "      <td>22.0</td>\n",
              "      <td>912</td>\n",
              "      <td>6.0</td>\n",
              "      <td>0.70%</td>\n",
              "      <td>121</td>\n",
              "      <td>2.0</td>\n",
              "      <td>France</td>\n",
              "      <td>0</td>\n",
              "      <td>4</td>\n",
              "      <td>1</td>\n",
              "      <td>1</td>\n",
              "      <td>0</td>\n",
              "    </tr>\n",
              "    <tr>\n",
              "      <th>...</th>\n",
              "      <td>...</td>\n",
              "      <td>...</td>\n",
              "      <td>...</td>\n",
              "      <td>...</td>\n",
              "      <td>...</td>\n",
              "      <td>...</td>\n",
              "      <td>...</td>\n",
              "      <td>...</td>\n",
              "      <td>...</td>\n",
              "      <td>...</td>\n",
              "      <td>...</td>\n",
              "      <td>...</td>\n",
              "      <td>...</td>\n",
              "      <td>...</td>\n",
              "      <td>...</td>\n",
              "      <td>...</td>\n",
              "      <td>...</td>\n",
              "    </tr>\n",
              "    <tr>\n",
              "      <th>456</th>\n",
              "      <td>Edimilson Fernandes</td>\n",
              "      <td>West+Ham</td>\n",
              "      <td>21</td>\n",
              "      <td>CM</td>\n",
              "      <td>2</td>\n",
              "      <td>5.0</td>\n",
              "      <td>288</td>\n",
              "      <td>4.5</td>\n",
              "      <td>0.40%</td>\n",
              "      <td>38</td>\n",
              "      <td>2.0</td>\n",
              "      <td>Switzerland</td>\n",
              "      <td>0</td>\n",
              "      <td>1</td>\n",
              "      <td>20</td>\n",
              "      <td>0</td>\n",
              "      <td>1</td>\n",
              "    </tr>\n",
              "    <tr>\n",
              "      <th>457</th>\n",
              "      <td>Arthur Masuaku</td>\n",
              "      <td>West+Ham</td>\n",
              "      <td>23</td>\n",
              "      <td>LB</td>\n",
              "      <td>3</td>\n",
              "      <td>7.0</td>\n",
              "      <td>199</td>\n",
              "      <td>4.5</td>\n",
              "      <td>0.20%</td>\n",
              "      <td>34</td>\n",
              "      <td>4.0</td>\n",
              "      <td>Congo DR</td>\n",
              "      <td>0</td>\n",
              "      <td>2</td>\n",
              "      <td>20</td>\n",
              "      <td>0</td>\n",
              "      <td>1</td>\n",
              "    </tr>\n",
              "    <tr>\n",
              "      <th>458</th>\n",
              "      <td>Sam Byram</td>\n",
              "      <td>West+Ham</td>\n",
              "      <td>23</td>\n",
              "      <td>RB</td>\n",
              "      <td>3</td>\n",
              "      <td>4.5</td>\n",
              "      <td>198</td>\n",
              "      <td>4.5</td>\n",
              "      <td>0.30%</td>\n",
              "      <td>29</td>\n",
              "      <td>1.0</td>\n",
              "      <td>England</td>\n",
              "      <td>0</td>\n",
              "      <td>2</td>\n",
              "      <td>20</td>\n",
              "      <td>0</td>\n",
              "      <td>0</td>\n",
              "    </tr>\n",
              "    <tr>\n",
              "      <th>459</th>\n",
              "      <td>Ashley Fletcher</td>\n",
              "      <td>West+Ham</td>\n",
              "      <td>21</td>\n",
              "      <td>CF</td>\n",
              "      <td>1</td>\n",
              "      <td>1.0</td>\n",
              "      <td>412</td>\n",
              "      <td>4.5</td>\n",
              "      <td>5.90%</td>\n",
              "      <td>16</td>\n",
              "      <td>1.0</td>\n",
              "      <td>England</td>\n",
              "      <td>0</td>\n",
              "      <td>1</td>\n",
              "      <td>20</td>\n",
              "      <td>0</td>\n",
              "      <td>1</td>\n",
              "    </tr>\n",
              "    <tr>\n",
              "      <th>460</th>\n",
              "      <td>Diafra Sakho</td>\n",
              "      <td>West+Ham</td>\n",
              "      <td>27</td>\n",
              "      <td>CF</td>\n",
              "      <td>1</td>\n",
              "      <td>10.0</td>\n",
              "      <td>214</td>\n",
              "      <td>5.5</td>\n",
              "      <td>0.10%</td>\n",
              "      <td>12</td>\n",
              "      <td>4.0</td>\n",
              "      <td>Senegal</td>\n",
              "      <td>0</td>\n",
              "      <td>3</td>\n",
              "      <td>20</td>\n",
              "      <td>0</td>\n",
              "      <td>0</td>\n",
              "    </tr>\n",
              "  </tbody>\n",
              "</table>\n",
              "<p>461 rows × 17 columns</p>\n",
              "</div>\n",
              "      <button class=\"colab-df-convert\" onclick=\"convertToInteractive('df-4d955e33-43da-4340-a404-8850e17cf812')\"\n",
              "              title=\"Convert this dataframe to an interactive table.\"\n",
              "              style=\"display:none;\">\n",
              "        \n",
              "  <svg xmlns=\"http://www.w3.org/2000/svg\" height=\"24px\"viewBox=\"0 0 24 24\"\n",
              "       width=\"24px\">\n",
              "    <path d=\"M0 0h24v24H0V0z\" fill=\"none\"/>\n",
              "    <path d=\"M18.56 5.44l.94 2.06.94-2.06 2.06-.94-2.06-.94-.94-2.06-.94 2.06-2.06.94zm-11 1L8.5 8.5l.94-2.06 2.06-.94-2.06-.94L8.5 2.5l-.94 2.06-2.06.94zm10 10l.94 2.06.94-2.06 2.06-.94-2.06-.94-.94-2.06-.94 2.06-2.06.94z\"/><path d=\"M17.41 7.96l-1.37-1.37c-.4-.4-.92-.59-1.43-.59-.52 0-1.04.2-1.43.59L10.3 9.45l-7.72 7.72c-.78.78-.78 2.05 0 2.83L4 21.41c.39.39.9.59 1.41.59.51 0 1.02-.2 1.41-.59l7.78-7.78 2.81-2.81c.8-.78.8-2.07 0-2.86zM5.41 20L4 18.59l7.72-7.72 1.47 1.35L5.41 20z\"/>\n",
              "  </svg>\n",
              "      </button>\n",
              "      \n",
              "  <style>\n",
              "    .colab-df-container {\n",
              "      display:flex;\n",
              "      flex-wrap:wrap;\n",
              "      gap: 12px;\n",
              "    }\n",
              "\n",
              "    .colab-df-convert {\n",
              "      background-color: #E8F0FE;\n",
              "      border: none;\n",
              "      border-radius: 50%;\n",
              "      cursor: pointer;\n",
              "      display: none;\n",
              "      fill: #1967D2;\n",
              "      height: 32px;\n",
              "      padding: 0 0 0 0;\n",
              "      width: 32px;\n",
              "    }\n",
              "\n",
              "    .colab-df-convert:hover {\n",
              "      background-color: #E2EBFA;\n",
              "      box-shadow: 0px 1px 2px rgba(60, 64, 67, 0.3), 0px 1px 3px 1px rgba(60, 64, 67, 0.15);\n",
              "      fill: #174EA6;\n",
              "    }\n",
              "\n",
              "    [theme=dark] .colab-df-convert {\n",
              "      background-color: #3B4455;\n",
              "      fill: #D2E3FC;\n",
              "    }\n",
              "\n",
              "    [theme=dark] .colab-df-convert:hover {\n",
              "      background-color: #434B5C;\n",
              "      box-shadow: 0px 1px 3px 1px rgba(0, 0, 0, 0.15);\n",
              "      filter: drop-shadow(0px 1px 2px rgba(0, 0, 0, 0.3));\n",
              "      fill: #FFFFFF;\n",
              "    }\n",
              "  </style>\n",
              "\n",
              "      <script>\n",
              "        const buttonEl =\n",
              "          document.querySelector('#df-4d955e33-43da-4340-a404-8850e17cf812 button.colab-df-convert');\n",
              "        buttonEl.style.display =\n",
              "          google.colab.kernel.accessAllowed ? 'block' : 'none';\n",
              "\n",
              "        async function convertToInteractive(key) {\n",
              "          const element = document.querySelector('#df-4d955e33-43da-4340-a404-8850e17cf812');\n",
              "          const dataTable =\n",
              "            await google.colab.kernel.invokeFunction('convertToInteractive',\n",
              "                                                     [key], {});\n",
              "          if (!dataTable) return;\n",
              "\n",
              "          const docLinkHtml = 'Like what you see? Visit the ' +\n",
              "            '<a target=\"_blank\" href=https://colab.research.google.com/notebooks/data_table.ipynb>data table notebook</a>'\n",
              "            + ' to learn more about interactive tables.';\n",
              "          element.innerHTML = '';\n",
              "          dataTable['output_type'] = 'display_data';\n",
              "          await google.colab.output.renderOutput(dataTable, element);\n",
              "          const docLink = document.createElement('div');\n",
              "          docLink.innerHTML = docLinkHtml;\n",
              "          element.appendChild(docLink);\n",
              "        }\n",
              "      </script>\n",
              "    </div>\n",
              "  </div>\n",
              "  "
            ]
          },
          "metadata": {},
          "execution_count": 165
        }
      ]
    },
    {
      "cell_type": "code",
      "source": [
        "df.shape\n",
        "'''\n",
        "Shape of the data \n",
        "'''"
      ],
      "metadata": {
        "colab": {
          "base_uri": "https://localhost:8080/",
          "height": 36
        },
        "id": "HXmy5SoTYgpd",
        "outputId": "9328c238-fe2a-41ab-821d-fcfaa7a09901"
      },
      "execution_count": 166,
      "outputs": [
        {
          "output_type": "execute_result",
          "data": {
            "text/plain": [
              "'\\nShape of the data \\n'"
            ],
            "application/vnd.google.colaboratory.intrinsic+json": {
              "type": "string"
            }
          },
          "metadata": {},
          "execution_count": 166
        }
      ]
    },
    {
      "cell_type": "code",
      "source": [
        "df.describe()"
      ],
      "metadata": {
        "id": "cTFzdWKzD8oP",
        "colab": {
          "base_uri": "https://localhost:8080/",
          "height": 364
        },
        "outputId": "5d85f63f-ce86-4164-c694-f880573e61d6"
      },
      "execution_count": 167,
      "outputs": [
        {
          "output_type": "execute_result",
          "data": {
            "text/plain": [
              "              age  position_cat  market_value   page_views   fpl_value  \\\n",
              "count  461.000000    461.000000    461.000000   461.000000  461.000000   \n",
              "mean    26.804772      2.180043     11.012039   763.776573    5.447939   \n",
              "std      3.961892      1.000061     12.257403   931.805757    1.346695   \n",
              "min     17.000000      1.000000      0.050000     3.000000    4.000000   \n",
              "25%     24.000000      1.000000      3.000000   220.000000    4.500000   \n",
              "50%     27.000000      2.000000      7.000000   460.000000    5.000000   \n",
              "75%     30.000000      3.000000     15.000000   896.000000    5.500000   \n",
              "max     38.000000      4.000000     75.000000  7664.000000   12.500000   \n",
              "\n",
              "       fpl_points      region  new_foreign     age_cat     club_id  \\\n",
              "count  461.000000  460.000000   461.000000  461.000000  461.000000   \n",
              "mean    57.314534    1.993478     0.034707    3.206074   10.334056   \n",
              "std     53.113811    0.957689     0.183236    1.279795    5.726475   \n",
              "min      0.000000    1.000000     0.000000    1.000000    1.000000   \n",
              "25%      5.000000    1.000000     0.000000    2.000000    6.000000   \n",
              "50%     51.000000    2.000000     0.000000    3.000000   10.000000   \n",
              "75%     94.000000    2.000000     0.000000    4.000000   15.000000   \n",
              "max    264.000000    4.000000     1.000000    6.000000   20.000000   \n",
              "\n",
              "         big_club  new_signing  \n",
              "count  461.000000   461.000000  \n",
              "mean     0.303688     0.145336  \n",
              "std      0.460349     0.352822  \n",
              "min      0.000000     0.000000  \n",
              "25%      0.000000     0.000000  \n",
              "50%      0.000000     0.000000  \n",
              "75%      1.000000     0.000000  \n",
              "max      1.000000     1.000000  "
            ],
            "text/html": [
              "\n",
              "  <div id=\"df-c65bce1e-cb70-4a70-872c-62076e3a173d\">\n",
              "    <div class=\"colab-df-container\">\n",
              "      <div>\n",
              "<style scoped>\n",
              "    .dataframe tbody tr th:only-of-type {\n",
              "        vertical-align: middle;\n",
              "    }\n",
              "\n",
              "    .dataframe tbody tr th {\n",
              "        vertical-align: top;\n",
              "    }\n",
              "\n",
              "    .dataframe thead th {\n",
              "        text-align: right;\n",
              "    }\n",
              "</style>\n",
              "<table border=\"1\" class=\"dataframe\">\n",
              "  <thead>\n",
              "    <tr style=\"text-align: right;\">\n",
              "      <th></th>\n",
              "      <th>age</th>\n",
              "      <th>position_cat</th>\n",
              "      <th>market_value</th>\n",
              "      <th>page_views</th>\n",
              "      <th>fpl_value</th>\n",
              "      <th>fpl_points</th>\n",
              "      <th>region</th>\n",
              "      <th>new_foreign</th>\n",
              "      <th>age_cat</th>\n",
              "      <th>club_id</th>\n",
              "      <th>big_club</th>\n",
              "      <th>new_signing</th>\n",
              "    </tr>\n",
              "  </thead>\n",
              "  <tbody>\n",
              "    <tr>\n",
              "      <th>count</th>\n",
              "      <td>461.000000</td>\n",
              "      <td>461.000000</td>\n",
              "      <td>461.000000</td>\n",
              "      <td>461.000000</td>\n",
              "      <td>461.000000</td>\n",
              "      <td>461.000000</td>\n",
              "      <td>460.000000</td>\n",
              "      <td>461.000000</td>\n",
              "      <td>461.000000</td>\n",
              "      <td>461.000000</td>\n",
              "      <td>461.000000</td>\n",
              "      <td>461.000000</td>\n",
              "    </tr>\n",
              "    <tr>\n",
              "      <th>mean</th>\n",
              "      <td>26.804772</td>\n",
              "      <td>2.180043</td>\n",
              "      <td>11.012039</td>\n",
              "      <td>763.776573</td>\n",
              "      <td>5.447939</td>\n",
              "      <td>57.314534</td>\n",
              "      <td>1.993478</td>\n",
              "      <td>0.034707</td>\n",
              "      <td>3.206074</td>\n",
              "      <td>10.334056</td>\n",
              "      <td>0.303688</td>\n",
              "      <td>0.145336</td>\n",
              "    </tr>\n",
              "    <tr>\n",
              "      <th>std</th>\n",
              "      <td>3.961892</td>\n",
              "      <td>1.000061</td>\n",
              "      <td>12.257403</td>\n",
              "      <td>931.805757</td>\n",
              "      <td>1.346695</td>\n",
              "      <td>53.113811</td>\n",
              "      <td>0.957689</td>\n",
              "      <td>0.183236</td>\n",
              "      <td>1.279795</td>\n",
              "      <td>5.726475</td>\n",
              "      <td>0.460349</td>\n",
              "      <td>0.352822</td>\n",
              "    </tr>\n",
              "    <tr>\n",
              "      <th>min</th>\n",
              "      <td>17.000000</td>\n",
              "      <td>1.000000</td>\n",
              "      <td>0.050000</td>\n",
              "      <td>3.000000</td>\n",
              "      <td>4.000000</td>\n",
              "      <td>0.000000</td>\n",
              "      <td>1.000000</td>\n",
              "      <td>0.000000</td>\n",
              "      <td>1.000000</td>\n",
              "      <td>1.000000</td>\n",
              "      <td>0.000000</td>\n",
              "      <td>0.000000</td>\n",
              "    </tr>\n",
              "    <tr>\n",
              "      <th>25%</th>\n",
              "      <td>24.000000</td>\n",
              "      <td>1.000000</td>\n",
              "      <td>3.000000</td>\n",
              "      <td>220.000000</td>\n",
              "      <td>4.500000</td>\n",
              "      <td>5.000000</td>\n",
              "      <td>1.000000</td>\n",
              "      <td>0.000000</td>\n",
              "      <td>2.000000</td>\n",
              "      <td>6.000000</td>\n",
              "      <td>0.000000</td>\n",
              "      <td>0.000000</td>\n",
              "    </tr>\n",
              "    <tr>\n",
              "      <th>50%</th>\n",
              "      <td>27.000000</td>\n",
              "      <td>2.000000</td>\n",
              "      <td>7.000000</td>\n",
              "      <td>460.000000</td>\n",
              "      <td>5.000000</td>\n",
              "      <td>51.000000</td>\n",
              "      <td>2.000000</td>\n",
              "      <td>0.000000</td>\n",
              "      <td>3.000000</td>\n",
              "      <td>10.000000</td>\n",
              "      <td>0.000000</td>\n",
              "      <td>0.000000</td>\n",
              "    </tr>\n",
              "    <tr>\n",
              "      <th>75%</th>\n",
              "      <td>30.000000</td>\n",
              "      <td>3.000000</td>\n",
              "      <td>15.000000</td>\n",
              "      <td>896.000000</td>\n",
              "      <td>5.500000</td>\n",
              "      <td>94.000000</td>\n",
              "      <td>2.000000</td>\n",
              "      <td>0.000000</td>\n",
              "      <td>4.000000</td>\n",
              "      <td>15.000000</td>\n",
              "      <td>1.000000</td>\n",
              "      <td>0.000000</td>\n",
              "    </tr>\n",
              "    <tr>\n",
              "      <th>max</th>\n",
              "      <td>38.000000</td>\n",
              "      <td>4.000000</td>\n",
              "      <td>75.000000</td>\n",
              "      <td>7664.000000</td>\n",
              "      <td>12.500000</td>\n",
              "      <td>264.000000</td>\n",
              "      <td>4.000000</td>\n",
              "      <td>1.000000</td>\n",
              "      <td>6.000000</td>\n",
              "      <td>20.000000</td>\n",
              "      <td>1.000000</td>\n",
              "      <td>1.000000</td>\n",
              "    </tr>\n",
              "  </tbody>\n",
              "</table>\n",
              "</div>\n",
              "      <button class=\"colab-df-convert\" onclick=\"convertToInteractive('df-c65bce1e-cb70-4a70-872c-62076e3a173d')\"\n",
              "              title=\"Convert this dataframe to an interactive table.\"\n",
              "              style=\"display:none;\">\n",
              "        \n",
              "  <svg xmlns=\"http://www.w3.org/2000/svg\" height=\"24px\"viewBox=\"0 0 24 24\"\n",
              "       width=\"24px\">\n",
              "    <path d=\"M0 0h24v24H0V0z\" fill=\"none\"/>\n",
              "    <path d=\"M18.56 5.44l.94 2.06.94-2.06 2.06-.94-2.06-.94-.94-2.06-.94 2.06-2.06.94zm-11 1L8.5 8.5l.94-2.06 2.06-.94-2.06-.94L8.5 2.5l-.94 2.06-2.06.94zm10 10l.94 2.06.94-2.06 2.06-.94-2.06-.94-.94-2.06-.94 2.06-2.06.94z\"/><path d=\"M17.41 7.96l-1.37-1.37c-.4-.4-.92-.59-1.43-.59-.52 0-1.04.2-1.43.59L10.3 9.45l-7.72 7.72c-.78.78-.78 2.05 0 2.83L4 21.41c.39.39.9.59 1.41.59.51 0 1.02-.2 1.41-.59l7.78-7.78 2.81-2.81c.8-.78.8-2.07 0-2.86zM5.41 20L4 18.59l7.72-7.72 1.47 1.35L5.41 20z\"/>\n",
              "  </svg>\n",
              "      </button>\n",
              "      \n",
              "  <style>\n",
              "    .colab-df-container {\n",
              "      display:flex;\n",
              "      flex-wrap:wrap;\n",
              "      gap: 12px;\n",
              "    }\n",
              "\n",
              "    .colab-df-convert {\n",
              "      background-color: #E8F0FE;\n",
              "      border: none;\n",
              "      border-radius: 50%;\n",
              "      cursor: pointer;\n",
              "      display: none;\n",
              "      fill: #1967D2;\n",
              "      height: 32px;\n",
              "      padding: 0 0 0 0;\n",
              "      width: 32px;\n",
              "    }\n",
              "\n",
              "    .colab-df-convert:hover {\n",
              "      background-color: #E2EBFA;\n",
              "      box-shadow: 0px 1px 2px rgba(60, 64, 67, 0.3), 0px 1px 3px 1px rgba(60, 64, 67, 0.15);\n",
              "      fill: #174EA6;\n",
              "    }\n",
              "\n",
              "    [theme=dark] .colab-df-convert {\n",
              "      background-color: #3B4455;\n",
              "      fill: #D2E3FC;\n",
              "    }\n",
              "\n",
              "    [theme=dark] .colab-df-convert:hover {\n",
              "      background-color: #434B5C;\n",
              "      box-shadow: 0px 1px 3px 1px rgba(0, 0, 0, 0.15);\n",
              "      filter: drop-shadow(0px 1px 2px rgba(0, 0, 0, 0.3));\n",
              "      fill: #FFFFFF;\n",
              "    }\n",
              "  </style>\n",
              "\n",
              "      <script>\n",
              "        const buttonEl =\n",
              "          document.querySelector('#df-c65bce1e-cb70-4a70-872c-62076e3a173d button.colab-df-convert');\n",
              "        buttonEl.style.display =\n",
              "          google.colab.kernel.accessAllowed ? 'block' : 'none';\n",
              "\n",
              "        async function convertToInteractive(key) {\n",
              "          const element = document.querySelector('#df-c65bce1e-cb70-4a70-872c-62076e3a173d');\n",
              "          const dataTable =\n",
              "            await google.colab.kernel.invokeFunction('convertToInteractive',\n",
              "                                                     [key], {});\n",
              "          if (!dataTable) return;\n",
              "\n",
              "          const docLinkHtml = 'Like what you see? Visit the ' +\n",
              "            '<a target=\"_blank\" href=https://colab.research.google.com/notebooks/data_table.ipynb>data table notebook</a>'\n",
              "            + ' to learn more about interactive tables.';\n",
              "          element.innerHTML = '';\n",
              "          dataTable['output_type'] = 'display_data';\n",
              "          await google.colab.output.renderOutput(dataTable, element);\n",
              "          const docLink = document.createElement('div');\n",
              "          docLink.innerHTML = docLinkHtml;\n",
              "          element.appendChild(docLink);\n",
              "        }\n",
              "      </script>\n",
              "    </div>\n",
              "  </div>\n",
              "  "
            ]
          },
          "metadata": {},
          "execution_count": 167
        }
      ]
    },
    {
      "cell_type": "code",
      "source": [
        "df.dtypes"
      ],
      "metadata": {
        "colab": {
          "base_uri": "https://localhost:8080/"
        },
        "id": "AhAJQ3NEBFIs",
        "outputId": "ca9b3177-3840-42c2-ede1-59814843d428"
      },
      "execution_count": 168,
      "outputs": [
        {
          "output_type": "execute_result",
          "data": {
            "text/plain": [
              "name             object\n",
              "club             object\n",
              "age               int64\n",
              "position         object\n",
              "position_cat      int64\n",
              "market_value    float64\n",
              "page_views        int64\n",
              "fpl_value       float64\n",
              "fpl_sel          object\n",
              "fpl_points        int64\n",
              "region          float64\n",
              "nationality      object\n",
              "new_foreign       int64\n",
              "age_cat           int64\n",
              "club_id           int64\n",
              "big_club          int64\n",
              "new_signing       int64\n",
              "dtype: object"
            ]
          },
          "metadata": {},
          "execution_count": 168
        }
      ]
    },
    {
      "cell_type": "code",
      "source": [
        "df.nunique()"
      ],
      "metadata": {
        "colab": {
          "base_uri": "https://localhost:8080/"
        },
        "id": "1RV0vnB-ILJk",
        "outputId": "fd04a3aa-fb2e-4311-a826-f7eaf4db44dd"
      },
      "execution_count": 169,
      "outputs": [
        {
          "output_type": "execute_result",
          "data": {
            "text/plain": [
              "name            461\n",
              "club             20\n",
              "age              22\n",
              "position         13\n",
              "position_cat      4\n",
              "market_value     48\n",
              "page_views      389\n",
              "fpl_value        17\n",
              "fpl_sel         113\n",
              "fpl_points      153\n",
              "region            4\n",
              "nationality      61\n",
              "new_foreign       2\n",
              "age_cat           6\n",
              "club_id          20\n",
              "big_club          2\n",
              "new_signing       2\n",
              "dtype: int64"
            ]
          },
          "metadata": {},
          "execution_count": 169
        }
      ]
    },
    {
      "cell_type": "code",
      "source": [
        "sns.kdeplot(df['market_value'], shade=True)"
      ],
      "metadata": {
        "colab": {
          "base_uri": "https://localhost:8080/",
          "height": 586
        },
        "id": "Xi9SvynbYGDQ",
        "outputId": "3c614915-9a08-4136-acfc-a9dfb762342e"
      },
      "execution_count": 170,
      "outputs": [
        {
          "output_type": "stream",
          "name": "stderr",
          "text": [
            "<ipython-input-170-22deddb28297>:1: FutureWarning: \n",
            "\n",
            "`shade` is now deprecated in favor of `fill`; setting `fill=True`.\n",
            "This will become an error in seaborn v0.14.0; please update your code.\n",
            "\n",
            "  sns.kdeplot(df['market_value'], shade=True)\n"
          ]
        },
        {
          "output_type": "execute_result",
          "data": {
            "text/plain": [
              "<Axes: xlabel='market_value', ylabel='Density'>"
            ]
          },
          "metadata": {},
          "execution_count": 170
        },
        {
          "output_type": "display_data",
          "data": {
            "text/plain": [
              "<Figure size 1300x500 with 1 Axes>"
            ],
            "image/png": "[encoded data removed]"
          },
          "metadata": {}
        }
      ]
    },
    {
      "cell_type": "code",
      "source": [
        "plt.rcParams['figure.figsize'] = (13, 5)\n",
        "sns.scatterplot(x='market_value', y='page_views', data=df)\n",
        "'''below plot shows that the relationship between the market value of a player the views on the page '''"
      ],
      "metadata": {
        "colab": {
          "base_uri": "https://localhost:8080/",
          "height": 487
        },
        "id": "qXSGtBxGugCg",
        "outputId": "d472838b-4ead-42af-c0e8-a2d01add86f1"
      },
      "execution_count": 171,
      "outputs": [
        {
          "output_type": "execute_result",
          "data": {
            "text/plain": [
              "'below plot shows that the relationship between the market value of a player the views on the page '"
            ],
            "application/vnd.google.colaboratory.intrinsic+json": {
              "type": "string"
            }
          },
          "metadata": {},
          "execution_count": 171
        },
        {
          "output_type": "display_data",
          "data": {
            "text/plain": [
              "<Figure size 1300x500 with 1 Axes>"
            ],
            "image/png": "[encoded data removed]"
          },
          "metadata": {}
        }
      ]
    },
    {
      "cell_type": "code",
      "source": [
        "sns.countplot(x='position', data=df)\n",
        "'''below plot shows the count with respect to the usual position on the pitch in the data '''"
      ],
      "metadata": {
        "colab": {
          "base_uri": "https://localhost:8080/",
          "height": 484
        },
        "id": "bdV0ZZWJuxO4",
        "outputId": "53681875-da45-4955-bda2-0d9a01557fac"
      },
      "execution_count": 172,
      "outputs": [
        {
          "output_type": "execute_result",
          "data": {
            "text/plain": [
              "'below plot shows the count with respect to the usual position on the pitch in the data '"
            ],
            "application/vnd.google.colaboratory.intrinsic+json": {
              "type": "string"
            }
          },
          "metadata": {},
          "execution_count": 172
        },
        {
          "output_type": "display_data",
          "data": {
            "text/plain": [
              "<Figure size 1300x500 with 1 Axes>"
            ],
            "image/png": "[encoded data removed]"
          },
          "metadata": {}
        }
      ]
    },
    {
      "cell_type": "code",
      "source": [
        "sns.countplot(x='position_cat',data=df)\n",
        "'''Below plot tells the count of category of position to which the player belongs\n",
        "1 for attackers\n",
        "\n",
        "2 for midfielders\n",
        "\n",
        "3 for defenders\n",
        "\n",
        "4 for goalkeepers'''"
      ],
      "metadata": {
        "colab": {
          "base_uri": "https://localhost:8080/",
          "height": 502
        },
        "id": "CTAdAk7f2UWB",
        "outputId": "ffa73235-ad87-4d65-fbe3-3127dd41faac"
      },
      "execution_count": 173,
      "outputs": [
        {
          "output_type": "execute_result",
          "data": {
            "text/plain": [
              "'Below plot tells the count of category of position to which the player belongs\\n1 for attackers\\n\\n2 for midfielders\\n\\n3 for defenders\\n\\n4 for goalkeepers'"
            ],
            "application/vnd.google.colaboratory.intrinsic+json": {
              "type": "string"
            }
          },
          "metadata": {},
          "execution_count": 173
        },
        {
          "output_type": "display_data",
          "data": {
            "text/plain": [
              "<Figure size 1300x500 with 1 Axes>"
            ],
            "image/png": "[encoded data removed]"
          },
          "metadata": {}
        }
      ]
    },
    {
      "cell_type": "code",
      "source": [
        "sns.countplot(x='nationality', data=df)\n",
        "plt.xticks(rotation=90)\n",
        "''' below plot shows the count of player by their nationality '''"
      ],
      "metadata": {
        "colab": {
          "base_uri": "https://localhost:8080/",
          "height": 609
        },
        "id": "DY3YoyF5zNuP",
        "outputId": "00c14f1d-e87b-42c3-dad7-de2629533592"
      },
      "execution_count": 174,
      "outputs": [
        {
          "output_type": "execute_result",
          "data": {
            "text/plain": [
              "' below plot shows the count of player by their nationality '"
            ],
            "application/vnd.google.colaboratory.intrinsic+json": {
              "type": "string"
            }
          },
          "metadata": {},
          "execution_count": 174
        },
        {
          "output_type": "display_data",
          "data": {
            "text/plain": [
              "<Figure size 1300x500 with 1 Axes>"
            ],
            "image/png": "[encoded data removed]"
          },
          "metadata": {}
        }
      ]
    },
    {
      "cell_type": "code",
      "source": [
        "\n",
        "sns.displot(data=df,x='region', y='market_value')\n",
        "plt.xticks([1, 2, 3, 4])\n",
        "plt.title(\"Market Value vs Region\")\n",
        "'''   \n",
        "Below plot is between region and market value\n",
        "1 for England\n",
        "\n",
        "2 for EU\n",
        "\n",
        "3 for Americas\n",
        "\n",
        "4 for Rest of World\n",
        "'''"
      ],
      "metadata": {
        "colab": {
          "base_uri": "https://localhost:8080/",
          "height": 548
        },
        "id": "hv7YKszo1Psv",
        "outputId": "c40956ed-ef6e-468a-c8d3-19e2a31c9dfc"
      },
      "execution_count": 175,
      "outputs": [
        {
          "output_type": "execute_result",
          "data": {
            "text/plain": [
              "'   \\nBelow plot is between region and market value\\n1 for England\\n\\n2 for EU\\n\\n3 for Americas\\n\\n4 for Rest of World\\n'"
            ],
            "application/vnd.google.colaboratory.intrinsic+json": {
              "type": "string"
            }
          },
          "metadata": {},
          "execution_count": 175
        },
        {
          "output_type": "display_data",
          "data": {
            "text/plain": [
              "<Figure size 500x500 with 1 Axes>"
            ],
            "image/png": "[encoded data removed]"
          },
          "metadata": {}
        }
      ]
    },
    {
      "cell_type": "code",
      "source": [
        "sns.scatterplot(x='fpl_points', y='market_value',hue='big_club',data=df)\n",
        "'''below graphs shows the graph between  FPL points accumulated over the previous season vs market value of player'''"
      ],
      "metadata": {
        "colab": {
          "base_uri": "https://localhost:8080/",
          "height": 484
        },
        "id": "JEztQRlCHCDN",
        "outputId": "ccc99cdc-f5fd-4f03-b9ff-da27d37c1e8c"
      },
      "execution_count": 176,
      "outputs": [
        {
          "output_type": "execute_result",
          "data": {
            "text/plain": [
              "'below graphs shows the graph between  FPL points accumulated over the previous season vs market value of player'"
            ],
            "application/vnd.google.colaboratory.intrinsic+json": {
              "type": "string"
            }
          },
          "metadata": {},
          "execution_count": 176
        },
        {
          "output_type": "display_data",
          "data": {
            "text/plain": [
              "<Figure size 1300x500 with 1 Axes>"
            ],
            "image/png": "[encoded data removed]"
          },
          "metadata": {}
        }
      ]
    },
    {
      "cell_type": "code",
      "source": [
        "sns.barplot(x='age', y='market_value',data=df)"
      ],
      "metadata": {
        "colab": {
          "base_uri": "https://localhost:8080/",
          "height": 482
        },
        "id": "YRQoX71YdSRR",
        "outputId": "a2e87191-1e33-49f3-dd49-7462c62d78a1"
      },
      "execution_count": 177,
      "outputs": [
        {
          "output_type": "execute_result",
          "data": {
            "text/plain": [
              "<Axes: xlabel='age', ylabel='market_value'>"
            ]
          },
          "metadata": {},
          "execution_count": 177
        },
        {
          "output_type": "display_data",
          "data": {
            "text/plain": [
              "<Figure size 1300x500 with 1 Axes>"
            ],
            "image/png": "[encoded data removed]"
          },
          "metadata": {}
        }
      ]
    },
    {
      "cell_type": "code",
      "source": [
        "sns.displot(x='fpl_value', y='market_value',hue='big_club',data=df)\n",
        "'''below graphs shows the graph between Value in Fantasy Premier League as on July 20th, 2017 vs market value'''"
      ],
      "metadata": {
        "colab": {
          "base_uri": "https://localhost:8080/",
          "height": 525
        },
        "id": "lxomLbrEJy-c",
        "outputId": "9c61bdc8-8211-4fb2-d3af-9cb30542cd3d"
      },
      "execution_count": 178,
      "outputs": [
        {
          "output_type": "execute_result",
          "data": {
            "text/plain": [
              "'below graphs shows the graph between Value in Fantasy Premier League as on July 20th, 2017 vs market value'"
            ],
            "application/vnd.google.colaboratory.intrinsic+json": {
              "type": "string"
            }
          },
          "metadata": {},
          "execution_count": 178
        },
        {
          "output_type": "display_data",
          "data": {
            "text/plain": [
              "<Figure size 568.861x500 with 1 Axes>"
            ],
            "image/png": "[encoded data removed]"
          },
          "metadata": {}
        }
      ]
    },
    {
      "cell_type": "markdown",
      "source": [
        "## Some basic preprocessings"
      ],
      "metadata": {
        "id": "XlivxAedzAeC"
      }
    },
    {
      "cell_type": "code",
      "source": [
        "df['fpl_sel'] = df['fpl_sel'].str.strip('%').astype(float) \n",
        "'''\n",
        "Converting the string column to numerical column \n",
        "'''"
      ],
      "metadata": {
        "colab": {
          "base_uri": "https://localhost:8080/",
          "height": 36
        },
        "id": "uJA1vz16xwDc",
        "outputId": "f086b2d8-f8d0-4a36-e2f1-a4e51ff59dba"
      },
      "execution_count": 179,
      "outputs": [
        {
          "output_type": "execute_result",
          "data": {
            "text/plain": [
              "'\\nConverting the string column to numerical column \\n'"
            ],
            "application/vnd.google.colaboratory.intrinsic+json": {
              "type": "string"
            }
          },
          "metadata": {},
          "execution_count": 179
        }
      ]
    },
    {
      "cell_type": "code",
      "source": [
        "df.isnull().sum()\n",
        "#checking null values "
      ],
      "metadata": {
        "colab": {
          "base_uri": "https://localhost:8080/"
        },
        "id": "vj1KHMK1zZZb",
        "outputId": "711e302f-b7a9-4738-b2bc-dfb9d299f6d3"
      },
      "execution_count": 180,
      "outputs": [
        {
          "output_type": "execute_result",
          "data": {
            "text/plain": [
              "name            0\n",
              "club            0\n",
              "age             0\n",
              "position        0\n",
              "position_cat    0\n",
              "market_value    0\n",
              "page_views      0\n",
              "fpl_value       0\n",
              "fpl_sel         0\n",
              "fpl_points      0\n",
              "region          1\n",
              "nationality     0\n",
              "new_foreign     0\n",
              "age_cat         0\n",
              "club_id         0\n",
              "big_club        0\n",
              "new_signing     0\n",
              "dtype: int64"
            ]
          },
          "metadata": {},
          "execution_count": 180
        }
      ]
    },
    {
      "cell_type": "code",
      "source": [
        "null_rows = df.isnull().any(axis=1)\n",
        "print(\"Rows with null values:\\n\", df[null_rows])           #checking the row "
      ],
      "metadata": {
        "colab": {
          "base_uri": "https://localhost:8080/"
        },
        "id": "nCZ5syuQ0Q_G",
        "outputId": "df8a7a4f-ce7b-46d6-fb67-efccfc3d0659"
      },
      "execution_count": 181,
      "outputs": [
        {
          "output_type": "stream",
          "name": "stdout",
          "text": [
            "Rows with null values:\n",
            "              name          club  age position  position_cat  market_value  \\\n",
            "188  Steve Mounie  Huddersfield   22       CF             1           5.5   \n",
            "\n",
            "     page_views  fpl_value  fpl_sel  fpl_points  region nationality  \\\n",
            "188          56        6.0      0.6           0     NaN       Benin   \n",
            "\n",
            "     new_foreign  age_cat  club_id  big_club  new_signing  \n",
            "188            0        2        8         0            0  \n"
          ]
        }
      ]
    },
    {
      "cell_type": "code",
      "source": [
        "checking_benin = df.isin({'nationality': ['Benin']}).any(axis=1)\n",
        "print(df[checking_benin])                             #checking if there is any another available "
      ],
      "metadata": {
        "colab": {
          "base_uri": "https://localhost:8080/"
        },
        "id": "7JsRyJyx0sQq",
        "outputId": "56904447-b03a-40d7-e306-1b3751482c9c"
      },
      "execution_count": 182,
      "outputs": [
        {
          "output_type": "stream",
          "name": "stdout",
          "text": [
            "             name          club  age position  position_cat  market_value  \\\n",
            "188  Steve Mounie  Huddersfield   22       CF             1           5.5   \n",
            "\n",
            "     page_views  fpl_value  fpl_sel  fpl_points  region nationality  \\\n",
            "188          56        6.0      0.6           0     NaN       Benin   \n",
            "\n",
            "     new_foreign  age_cat  club_id  big_club  new_signing  \n",
            "188            0        2        8         0            0  \n"
          ]
        }
      ]
    },
    {
      "cell_type": "code",
      "source": [
        "df.loc[188, 'region'] = 4   #Assigned 4 because it is most suitable option as Benin is afrcian country"
      ],
      "metadata": {
        "id": "oxuJMbql1YDN"
      },
      "execution_count": 183,
      "outputs": []
    },
    {
      "cell_type": "markdown",
      "source": [
        "##Scaling"
      ],
      "metadata": {
        "id": "4XH-KTvAK_dg"
      }
    },
    {
      "cell_type": "code",
      "source": [
        "inputs = df.drop(['name','club','position','nationality','market_value'],axis=1)\n",
        "output = df['market_value']"
      ],
      "metadata": {
        "id": "dWvc2iHuasbH"
      },
      "execution_count": 184,
      "outputs": []
    },
    {
      "cell_type": "markdown",
      "source": [
        "Applying MinMaxScaler "
      ],
      "metadata": {
        "id": "rBh2hrndumyG"
      }
    },
    {
      "cell_type": "code",
      "source": [
        "from sklearn.preprocessing import MinMaxScaler\n",
        "\n",
        "scaler_minmax =  MinMaxScaler()\n",
        "scaled_inputs = scaler_minmax.fit_transform(inputs)\n",
        "scaled_inputs =  pd.DataFrame(scaled_inputs, columns=inputs.columns)"
      ],
      "metadata": {
        "id": "7LAVYfpdLFxa"
      },
      "execution_count": 185,
      "outputs": []
    },
    {
      "cell_type": "code",
      "source": [
        "scaled_inputs"
      ],
      "metadata": {
        "colab": {
          "base_uri": "https://localhost:8080/",
          "height": 423
        },
        "id": "WPgeoX8Ku7Is",
        "outputId": "6712d6b7-543f-4ce1-83dc-da554edb77e7"
      },
      "execution_count": 186,
      "outputs": [
        {
          "output_type": "execute_result",
          "data": {
            "text/plain": [
              "          age  position_cat  page_views  fpl_value   fpl_sel  fpl_points  \\\n",
              "0    0.523810      0.000000    0.564678   0.941176  0.380000    1.000000   \n",
              "1    0.523810      0.000000    0.573293   0.647059  0.124444    0.632576   \n",
              "2    0.857143      1.000000    0.199191   0.176471  0.131111    0.507576   \n",
              "3    0.523810      0.000000    0.311970   0.411765  0.033333    0.462121   \n",
              "4    0.666667      0.666667    0.118653   0.235294  0.015556    0.458333   \n",
              "..        ...           ...         ...        ...       ...         ...   \n",
              "456  0.190476      0.333333    0.037201   0.058824  0.008889    0.143939   \n",
              "457  0.285714      0.666667    0.025584   0.058824  0.004444    0.128788   \n",
              "458  0.285714      0.666667    0.025454   0.058824  0.006667    0.109848   \n",
              "459  0.190476      0.000000    0.053387   0.058824  0.131111    0.060606   \n",
              "460  0.476190      0.000000    0.027542   0.176471  0.002222    0.045455   \n",
              "\n",
              "       region  new_foreign  age_cat  club_id  big_club  new_signing  \n",
              "0    0.666667          0.0      0.6      0.0       1.0          0.0  \n",
              "1    0.333333          0.0      0.6      0.0       1.0          0.0  \n",
              "2    0.333333          0.0      1.0      0.0       1.0          0.0  \n",
              "3    0.000000          0.0      0.6      0.0       1.0          0.0  \n",
              "4    0.333333          0.0      0.6      0.0       1.0          0.0  \n",
              "..        ...          ...      ...      ...       ...          ...  \n",
              "456  0.333333          0.0      0.0      1.0       0.0          1.0  \n",
              "457  1.000000          0.0      0.2      1.0       0.0          1.0  \n",
              "458  0.000000          0.0      0.2      1.0       0.0          0.0  \n",
              "459  0.000000          0.0      0.0      1.0       0.0          1.0  \n",
              "460  1.000000          0.0      0.4      1.0       0.0          0.0  \n",
              "\n",
              "[461 rows x 12 columns]"
            ],
            "text/html": [
              "\n",
              "  <div id=\"df-c2ee7435-7f46-43d6-ab6c-2b26c42293f6\">\n",
              "    <div class=\"colab-df-container\">\n",
              "      <div>\n",
              "<style scoped>\n",
              "    .dataframe tbody tr th:only-of-type {\n",
              "        vertical-align: middle;\n",
              "    }\n",
              "\n",
              "    .dataframe tbody tr th {\n",
              "        vertical-align: top;\n",
              "    }\n",
              "\n",
              "    .dataframe thead th {\n",
              "        text-align: right;\n",
              "    }\n",
              "</style>\n",
              "<table border=\"1\" class=\"dataframe\">\n",
              "  <thead>\n",
              "    <tr style=\"text-align: right;\">\n",
              "      <th></th>\n",
              "      <th>age</th>\n",
              "      <th>position_cat</th>\n",
              "      <th>page_views</th>\n",
              "      <th>fpl_value</th>\n",
              "      <th>fpl_sel</th>\n",
              "      <th>fpl_points</th>\n",
              "      <th>region</th>\n",
              "      <th>new_foreign</th>\n",
              "      <th>age_cat</th>\n",
              "      <th>club_id</th>\n",
              "      <th>big_club</th>\n",
              "      <th>new_signing</th>\n",
              "    </tr>\n",
              "  </thead>\n",
              "  <tbody>\n",
              "    <tr>\n",
              "      <th>0</th>\n",
              "      <td>0.523810</td>\n",
              "      <td>0.000000</td>\n",
              "      <td>0.564678</td>\n",
              "      <td>0.941176</td>\n",
              "      <td>0.380000</td>\n",
              "      <td>1.000000</td>\n",
              "      <td>0.666667</td>\n",
              "      <td>0.0</td>\n",
              "      <td>0.6</td>\n",
              "      <td>0.0</td>\n",
              "      <td>1.0</td>\n",
              "      <td>0.0</td>\n",
              "    </tr>\n",
              "    <tr>\n",
              "      <th>1</th>\n",
              "      <td>0.523810</td>\n",
              "      <td>0.000000</td>\n",
              "      <td>0.573293</td>\n",
              "      <td>0.647059</td>\n",
              "      <td>0.124444</td>\n",
              "      <td>0.632576</td>\n",
              "      <td>0.333333</td>\n",
              "      <td>0.0</td>\n",
              "      <td>0.6</td>\n",
              "      <td>0.0</td>\n",
              "      <td>1.0</td>\n",
              "      <td>0.0</td>\n",
              "    </tr>\n",
              "    <tr>\n",
              "      <th>2</th>\n",
              "      <td>0.857143</td>\n",
              "      <td>1.000000</td>\n",
              "      <td>0.199191</td>\n",
              "      <td>0.176471</td>\n",
              "      <td>0.131111</td>\n",
              "      <td>0.507576</td>\n",
              "      <td>0.333333</td>\n",
              "      <td>0.0</td>\n",
              "      <td>1.0</td>\n",
              "      <td>0.0</td>\n",
              "      <td>1.0</td>\n",
              "      <td>0.0</td>\n",
              "    </tr>\n",
              "    <tr>\n",
              "      <th>3</th>\n",
              "      <td>0.523810</td>\n",
              "      <td>0.000000</td>\n",
              "      <td>0.311970</td>\n",
              "      <td>0.411765</td>\n",
              "      <td>0.033333</td>\n",
              "      <td>0.462121</td>\n",
              "      <td>0.000000</td>\n",
              "      <td>0.0</td>\n",
              "      <td>0.6</td>\n",
              "      <td>0.0</td>\n",
              "      <td>1.0</td>\n",
              "      <td>0.0</td>\n",
              "    </tr>\n",
              "    <tr>\n",
              "      <th>4</th>\n",
              "      <td>0.666667</td>\n",
              "      <td>0.666667</td>\n",
              "      <td>0.118653</td>\n",
              "      <td>0.235294</td>\n",
              "      <td>0.015556</td>\n",
              "      <td>0.458333</td>\n",
              "      <td>0.333333</td>\n",
              "      <td>0.0</td>\n",
              "      <td>0.6</td>\n",
              "      <td>0.0</td>\n",
              "      <td>1.0</td>\n",
              "      <td>0.0</td>\n",
              "    </tr>\n",
              "    <tr>\n",
              "      <th>...</th>\n",
              "      <td>...</td>\n",
              "      <td>...</td>\n",
              "      <td>...</td>\n",
              "      <td>...</td>\n",
              "      <td>...</td>\n",
              "      <td>...</td>\n",
              "      <td>...</td>\n",
              "      <td>...</td>\n",
              "      <td>...</td>\n",
              "      <td>...</td>\n",
              "      <td>...</td>\n",
              "      <td>...</td>\n",
              "    </tr>\n",
              "    <tr>\n",
              "      <th>456</th>\n",
              "      <td>0.190476</td>\n",
              "      <td>0.333333</td>\n",
              "      <td>0.037201</td>\n",
              "      <td>0.058824</td>\n",
              "      <td>0.008889</td>\n",
              "      <td>0.143939</td>\n",
              "      <td>0.333333</td>\n",
              "      <td>0.0</td>\n",
              "      <td>0.0</td>\n",
              "      <td>1.0</td>\n",
              "      <td>0.0</td>\n",
              "      <td>1.0</td>\n",
              "    </tr>\n",
              "    <tr>\n",
              "      <th>457</th>\n",
              "      <td>0.285714</td>\n",
              "      <td>0.666667</td>\n",
              "      <td>0.025584</td>\n",
              "      <td>0.058824</td>\n",
              "      <td>0.004444</td>\n",
              "      <td>0.128788</td>\n",
              "      <td>1.000000</td>\n",
              "      <td>0.0</td>\n",
              "      <td>0.2</td>\n",
              "      <td>1.0</td>\n",
              "      <td>0.0</td>\n",
              "      <td>1.0</td>\n",
              "    </tr>\n",
              "    <tr>\n",
              "      <th>458</th>\n",
              "      <td>0.285714</td>\n",
              "      <td>0.666667</td>\n",
              "      <td>0.025454</td>\n",
              "      <td>0.058824</td>\n",
              "      <td>0.006667</td>\n",
              "      <td>0.109848</td>\n",
              "      <td>0.000000</td>\n",
              "      <td>0.0</td>\n",
              "      <td>0.2</td>\n",
              "      <td>1.0</td>\n",
              "      <td>0.0</td>\n",
              "      <td>0.0</td>\n",
              "    </tr>\n",
              "    <tr>\n",
              "      <th>459</th>\n",
              "      <td>0.190476</td>\n",
              "      <td>0.000000</td>\n",
              "      <td>0.053387</td>\n",
              "      <td>0.058824</td>\n",
              "      <td>0.131111</td>\n",
              "      <td>0.060606</td>\n",
              "      <td>0.000000</td>\n",
              "      <td>0.0</td>\n",
              "      <td>0.0</td>\n",
              "      <td>1.0</td>\n",
              "      <td>0.0</td>\n",
              "      <td>1.0</td>\n",
              "    </tr>\n",
              "    <tr>\n",
              "      <th>460</th>\n",
              "      <td>0.476190</td>\n",
              "      <td>0.000000</td>\n",
              "      <td>0.027542</td>\n",
              "      <td>0.176471</td>\n",
              "      <td>0.002222</td>\n",
              "      <td>0.045455</td>\n",
              "      <td>1.000000</td>\n",
              "      <td>0.0</td>\n",
              "      <td>0.4</td>\n",
              "      <td>1.0</td>\n",
              "      <td>0.0</td>\n",
              "      <td>0.0</td>\n",
              "    </tr>\n",
              "  </tbody>\n",
              "</table>\n",
              "<p>461 rows × 12 columns</p>\n",
              "</div>\n",
              "      <button class=\"colab-df-convert\" onclick=\"convertToInteractive('df-c2ee7435-7f46-43d6-ab6c-2b26c42293f6')\"\n",
              "              title=\"Convert this dataframe to an interactive table.\"\n",
              "              style=\"display:none;\">\n",
              "        \n",
              "  <svg xmlns=\"http://www.w3.org/2000/svg\" height=\"24px\"viewBox=\"0 0 24 24\"\n",
              "       width=\"24px\">\n",
              "    <path d=\"M0 0h24v24H0V0z\" fill=\"none\"/>\n",
              "    <path d=\"M18.56 5.44l.94 2.06.94-2.06 2.06-.94-2.06-.94-.94-2.06-.94 2.06-2.06.94zm-11 1L8.5 8.5l.94-2.06 2.06-.94-2.06-.94L8.5 2.5l-.94 2.06-2.06.94zm10 10l.94 2.06.94-2.06 2.06-.94-2.06-.94-.94-2.06-.94 2.06-2.06.94z\"/><path d=\"M17.41 7.96l-1.37-1.37c-.4-.4-.92-.59-1.43-.59-.52 0-1.04.2-1.43.59L10.3 9.45l-7.72 7.72c-.78.78-.78 2.05 0 2.83L4 21.41c.39.39.9.59 1.41.59.51 0 1.02-.2 1.41-.59l7.78-7.78 2.81-2.81c.8-.78.8-2.07 0-2.86zM5.41 20L4 18.59l7.72-7.72 1.47 1.35L5.41 20z\"/>\n",
              "  </svg>\n",
              "      </button>\n",
              "      \n",
              "  <style>\n",
              "    .colab-df-container {\n",
              "      display:flex;\n",
              "      flex-wrap:wrap;\n",
              "      gap: 12px;\n",
              "    }\n",
              "\n",
              "    .colab-df-convert {\n",
              "      background-color: #E8F0FE;\n",
              "      border: none;\n",
              "      border-radius: 50%;\n",
              "      cursor: pointer;\n",
              "      display: none;\n",
              "      fill: #1967D2;\n",
              "      height: 32px;\n",
              "      padding: 0 0 0 0;\n",
              "      width: 32px;\n",
              "    }\n",
              "\n",
              "    .colab-df-convert:hover {\n",
              "      background-color: #E2EBFA;\n",
              "      box-shadow: 0px 1px 2px rgba(60, 64, 67, 0.3), 0px 1px 3px 1px rgba(60, 64, 67, 0.15);\n",
              "      fill: #174EA6;\n",
              "    }\n",
              "\n",
              "    [theme=dark] .colab-df-convert {\n",
              "      background-color: #3B4455;\n",
              "      fill: #D2E3FC;\n",
              "    }\n",
              "\n",
              "    [theme=dark] .colab-df-convert:hover {\n",
              "      background-color: #434B5C;\n",
              "      box-shadow: 0px 1px 3px 1px rgba(0, 0, 0, 0.15);\n",
              "      filter: drop-shadow(0px 1px 2px rgba(0, 0, 0, 0.3));\n",
              "      fill: #FFFFFF;\n",
              "    }\n",
              "  </style>\n",
              "\n",
              "      <script>\n",
              "        const buttonEl =\n",
              "          document.querySelector('#df-c2ee7435-7f46-43d6-ab6c-2b26c42293f6 button.colab-df-convert');\n",
              "        buttonEl.style.display =\n",
              "          google.colab.kernel.accessAllowed ? 'block' : 'none';\n",
              "\n",
              "        async function convertToInteractive(key) {\n",
              "          const element = document.querySelector('#df-c2ee7435-7f46-43d6-ab6c-2b26c42293f6');\n",
              "          const dataTable =\n",
              "            await google.colab.kernel.invokeFunction('convertToInteractive',\n",
              "                                                     [key], {});\n",
              "          if (!dataTable) return;\n",
              "\n",
              "          const docLinkHtml = 'Like what you see? Visit the ' +\n",
              "            '<a target=\"_blank\" href=https://colab.research.google.com/notebooks/data_table.ipynb>data table notebook</a>'\n",
              "            + ' to learn more about interactive tables.';\n",
              "          element.innerHTML = '';\n",
              "          dataTable['output_type'] = 'display_data';\n",
              "          await google.colab.output.renderOutput(dataTable, element);\n",
              "          const docLink = document.createElement('div');\n",
              "          docLink.innerHTML = docLinkHtml;\n",
              "          element.appendChild(docLink);\n",
              "        }\n",
              "      </script>\n",
              "    </div>\n",
              "  </div>\n",
              "  "
            ]
          },
          "metadata": {},
          "execution_count": 186
        }
      ]
    },
    {
      "cell_type": "markdown",
      "source": [
        "Applying Standard Scaler "
      ],
      "metadata": {
        "id": "BLsVb21Wuh2N"
      }
    },
    {
      "cell_type": "code",
      "source": [
        "from sklearn.preprocessing import StandardScaler\n",
        "\n",
        "scaler_standard = StandardScaler()\n",
        "standard_scaled_inputs = scaler_standard.fit_transform(inputs)\n",
        "standard_scaled_inputs = pd.DataFrame(standard_scaled_inputs, columns=inputs.columns)"
      ],
      "metadata": {
        "id": "vbrJe0g8t0qF"
      },
      "execution_count": 187,
      "outputs": []
    },
    {
      "cell_type": "code",
      "source": [
        "standard_scaled_inputs"
      ],
      "metadata": {
        "colab": {
          "base_uri": "https://localhost:8080/",
          "height": 423
        },
        "id": "McCd-5Khbc9L",
        "outputId": "5ccf92d7-244c-4b00-a526-42065e68b99c"
      },
      "execution_count": 188,
      "outputs": [
        {
          "output_type": "execute_result",
          "data": {
            "text/plain": [
              "          age  position_cat  page_views  fpl_value   fpl_sel  fpl_points  \\\n",
              "0    0.302009     -1.181253    3.830301   4.870574  2.443911    3.895597   \n",
              "1    0.302009     -1.181253    3.901208   3.012161  0.415513    2.067346   \n",
              "2    2.070761      1.821822    0.822118   0.038700  0.468427    1.445364   \n",
              "3    0.302009     -1.181253    1.750358   1.525430 -0.307655    1.219188   \n",
              "4    1.060045      0.820797    0.159244   0.410383 -0.448761    1.200340   \n",
              "..        ...           ...         ...        ...       ...         ...   \n",
              "456 -1.466743     -0.180228   -0.511151  -0.704665 -0.501676   -0.364039   \n",
              "457 -0.961386      0.820797   -0.606768  -0.704665 -0.536953   -0.439431   \n",
              "458 -0.961386      0.820797   -0.607843  -0.704665 -0.519314   -0.533671   \n",
              "459 -1.466743     -1.181253   -0.377931  -0.704665  0.468427   -0.778694   \n",
              "460  0.049330     -1.181253   -0.590653   0.038700 -0.554591   -0.854086   \n",
              "\n",
              "       region  new_foreign   age_cat   club_id  big_club  new_signing  \n",
              "0    1.043754    -0.189618  0.621028 -1.631754  1.514218    -0.412372  \n",
              "1    0.002259    -0.189618  0.621028 -1.631754  1.514218    -0.412372  \n",
              "2    0.002259    -0.189618  2.185476 -1.631754  1.514218    -0.412372  \n",
              "3   -1.039236    -0.189618  0.621028 -1.631754  1.514218    -0.412372  \n",
              "4    0.002259    -0.189618  0.621028 -1.631754  1.514218    -0.412372  \n",
              "..        ...          ...       ...       ...       ...          ...  \n",
              "456  0.002259    -0.189618 -1.725643  1.689773 -0.660407     2.424994  \n",
              "457  2.085249    -0.189618 -0.943420  1.689773 -0.660407     2.424994  \n",
              "458 -1.039236    -0.189618 -0.943420  1.689773 -0.660407    -0.412372  \n",
              "459 -1.039236    -0.189618 -1.725643  1.689773 -0.660407     2.424994  \n",
              "460  2.085249    -0.189618 -0.161196  1.689773 -0.660407    -0.412372  \n",
              "\n",
              "[461 rows x 12 columns]"
            ],
            "text/html": [
              "\n",
              "  <div id=\"df-1fc5b0dc-4fb4-4cb8-bf68-9d4679157bb5\">\n",
              "    <div class=\"colab-df-container\">\n",
              "      <div>\n",
              "<style scoped>\n",
              "    .dataframe tbody tr th:only-of-type {\n",
              "        vertical-align: middle;\n",
              "    }\n",
              "\n",
              "    .dataframe tbody tr th {\n",
              "        vertical-align: top;\n",
              "    }\n",
              "\n",
              "    .dataframe thead th {\n",
              "        text-align: right;\n",
              "    }\n",
              "</style>\n",
              "<table border=\"1\" class=\"dataframe\">\n",
              "  <thead>\n",
              "    <tr style=\"text-align: right;\">\n",
              "      <th></th>\n",
              "      <th>age</th>\n",
              "      <th>position_cat</th>\n",
              "      <th>page_views</th>\n",
              "      <th>fpl_value</th>\n",
              "      <th>fpl_sel</th>\n",
              "      <th>fpl_points</th>\n",
              "      <th>region</th>\n",
              "      <th>new_foreign</th>\n",
              "      <th>age_cat</th>\n",
              "      <th>club_id</th>\n",
              "      <th>big_club</th>\n",
              "      <th>new_signing</th>\n",
              "    </tr>\n",
              "  </thead>\n",
              "  <tbody>\n",
              "    <tr>\n",
              "      <th>0</th>\n",
              "      <td>0.302009</td>\n",
              "      <td>-1.181253</td>\n",
              "      <td>3.830301</td>\n",
              "      <td>4.870574</td>\n",
              "      <td>2.443911</td>\n",
              "      <td>3.895597</td>\n",
              "      <td>1.043754</td>\n",
              "      <td>-0.189618</td>\n",
              "      <td>0.621028</td>\n",
              "      <td>-1.631754</td>\n",
              "      <td>1.514218</td>\n",
              "      <td>-0.412372</td>\n",
              "    </tr>\n",
              "    <tr>\n",
              "      <th>1</th>\n",
              "      <td>0.302009</td>\n",
              "      <td>-1.181253</td>\n",
              "      <td>3.901208</td>\n",
              "      <td>3.012161</td>\n",
              "      <td>0.415513</td>\n",
              "      <td>2.067346</td>\n",
              "      <td>0.002259</td>\n",
              "      <td>-0.189618</td>\n",
              "      <td>0.621028</td>\n",
              "      <td>-1.631754</td>\n",
              "      <td>1.514218</td>\n",
              "      <td>-0.412372</td>\n",
              "    </tr>\n",
              "    <tr>\n",
              "      <th>2</th>\n",
              "      <td>2.070761</td>\n",
              "      <td>1.821822</td>\n",
              "      <td>0.822118</td>\n",
              "      <td>0.038700</td>\n",
              "      <td>0.468427</td>\n",
              "      <td>1.445364</td>\n",
              "      <td>0.002259</td>\n",
              "      <td>-0.189618</td>\n",
              "      <td>2.185476</td>\n",
              "      <td>-1.631754</td>\n",
              "      <td>1.514218</td>\n",
              "      <td>-0.412372</td>\n",
              "    </tr>\n",
              "    <tr>\n",
              "      <th>3</th>\n",
              "      <td>0.302009</td>\n",
              "      <td>-1.181253</td>\n",
              "      <td>1.750358</td>\n",
              "      <td>1.525430</td>\n",
              "      <td>-0.307655</td>\n",
              "      <td>1.219188</td>\n",
              "      <td>-1.039236</td>\n",
              "      <td>-0.189618</td>\n",
              "      <td>0.621028</td>\n",
              "      <td>-1.631754</td>\n",
              "      <td>1.514218</td>\n",
              "      <td>-0.412372</td>\n",
              "    </tr>\n",
              "    <tr>\n",
              "      <th>4</th>\n",
              "      <td>1.060045</td>\n",
              "      <td>0.820797</td>\n",
              "      <td>0.159244</td>\n",
              "      <td>0.410383</td>\n",
              "      <td>-0.448761</td>\n",
              "      <td>1.200340</td>\n",
              "      <td>0.002259</td>\n",
              "      <td>-0.189618</td>\n",
              "      <td>0.621028</td>\n",
              "      <td>-1.631754</td>\n",
              "      <td>1.514218</td>\n",
              "      <td>-0.412372</td>\n",
              "    </tr>\n",
              "    <tr>\n",
              "      <th>...</th>\n",
              "      <td>...</td>\n",
              "      <td>...</td>\n",
              "      <td>...</td>\n",
              "      <td>...</td>\n",
              "      <td>...</td>\n",
              "      <td>...</td>\n",
              "      <td>...</td>\n",
              "      <td>...</td>\n",
              "      <td>...</td>\n",
              "      <td>...</td>\n",
              "      <td>...</td>\n",
              "      <td>...</td>\n",
              "    </tr>\n",
              "    <tr>\n",
              "      <th>456</th>\n",
              "      <td>-1.466743</td>\n",
              "      <td>-0.180228</td>\n",
              "      <td>-0.511151</td>\n",
              "      <td>-0.704665</td>\n",
              "      <td>-0.501676</td>\n",
              "      <td>-0.364039</td>\n",
              "      <td>0.002259</td>\n",
              "      <td>-0.189618</td>\n",
              "      <td>-1.725643</td>\n",
              "      <td>1.689773</td>\n",
              "      <td>-0.660407</td>\n",
              "      <td>2.424994</td>\n",
              "    </tr>\n",
              "    <tr>\n",
              "      <th>457</th>\n",
              "      <td>-0.961386</td>\n",
              "      <td>0.820797</td>\n",
              "      <td>-0.606768</td>\n",
              "      <td>-0.704665</td>\n",
              "      <td>-0.536953</td>\n",
              "      <td>-0.439431</td>\n",
              "      <td>2.085249</td>\n",
              "      <td>-0.189618</td>\n",
              "      <td>-0.943420</td>\n",
              "      <td>1.689773</td>\n",
              "      <td>-0.660407</td>\n",
              "      <td>2.424994</td>\n",
              "    </tr>\n",
              "    <tr>\n",
              "      <th>458</th>\n",
              "      <td>-0.961386</td>\n",
              "      <td>0.820797</td>\n",
              "      <td>-0.607843</td>\n",
              "      <td>-0.704665</td>\n",
              "      <td>-0.519314</td>\n",
              "      <td>-0.533671</td>\n",
              "      <td>-1.039236</td>\n",
              "      <td>-0.189618</td>\n",
              "      <td>-0.943420</td>\n",
              "      <td>1.689773</td>\n",
              "      <td>-0.660407</td>\n",
              "      <td>-0.412372</td>\n",
              "    </tr>\n",
              "    <tr>\n",
              "      <th>459</th>\n",
              "      <td>-1.466743</td>\n",
              "      <td>-1.181253</td>\n",
              "      <td>-0.377931</td>\n",
              "      <td>-0.704665</td>\n",
              "      <td>0.468427</td>\n",
              "      <td>-0.778694</td>\n",
              "      <td>-1.039236</td>\n",
              "      <td>-0.189618</td>\n",
              "      <td>-1.725643</td>\n",
              "      <td>1.689773</td>\n",
              "      <td>-0.660407</td>\n",
              "      <td>2.424994</td>\n",
              "    </tr>\n",
              "    <tr>\n",
              "      <th>460</th>\n",
              "      <td>0.049330</td>\n",
              "      <td>-1.181253</td>\n",
              "      <td>-0.590653</td>\n",
              "      <td>0.038700</td>\n",
              "      <td>-0.554591</td>\n",
              "      <td>-0.854086</td>\n",
              "      <td>2.085249</td>\n",
              "      <td>-0.189618</td>\n",
              "      <td>-0.161196</td>\n",
              "      <td>1.689773</td>\n",
              "      <td>-0.660407</td>\n",
              "      <td>-0.412372</td>\n",
              "    </tr>\n",
              "  </tbody>\n",
              "</table>\n",
              "<p>461 rows × 12 columns</p>\n",
              "</div>\n",
              "      <button class=\"colab-df-convert\" onclick=\"convertToInteractive('df-1fc5b0dc-4fb4-4cb8-bf68-9d4679157bb5')\"\n",
              "              title=\"Convert this dataframe to an interactive table.\"\n",
              "              style=\"display:none;\">\n",
              "        \n",
              "  <svg xmlns=\"http://www.w3.org/2000/svg\" height=\"24px\"viewBox=\"0 0 24 24\"\n",
              "       width=\"24px\">\n",
              "    <path d=\"M0 0h24v24H0V0z\" fill=\"none\"/>\n",
              "    <path d=\"M18.56 5.44l.94 2.06.94-2.06 2.06-.94-2.06-.94-.94-2.06-.94 2.06-2.06.94zm-11 1L8.5 8.5l.94-2.06 2.06-.94-2.06-.94L8.5 2.5l-.94 2.06-2.06.94zm10 10l.94 2.06.94-2.06 2.06-.94-2.06-.94-.94-2.06-.94 2.06-2.06.94z\"/><path d=\"M17.41 7.96l-1.37-1.37c-.4-.4-.92-.59-1.43-.59-.52 0-1.04.2-1.43.59L10.3 9.45l-7.72 7.72c-.78.78-.78 2.05 0 2.83L4 21.41c.39.39.9.59 1.41.59.51 0 1.02-.2 1.41-.59l7.78-7.78 2.81-2.81c.8-.78.8-2.07 0-2.86zM5.41 20L4 18.59l7.72-7.72 1.47 1.35L5.41 20z\"/>\n",
              "  </svg>\n",
              "      </button>\n",
              "      \n",
              "  <style>\n",
              "    .colab-df-container {\n",
              "      display:flex;\n",
              "      flex-wrap:wrap;\n",
              "      gap: 12px;\n",
              "    }\n",
              "\n",
              "    .colab-df-convert {\n",
              "      background-color: #E8F0FE;\n",
              "      border: none;\n",
              "      border-radius: 50%;\n",
              "      cursor: pointer;\n",
              "      display: none;\n",
              "      fill: #1967D2;\n",
              "      height: 32px;\n",
              "      padding: 0 0 0 0;\n",
              "      width: 32px;\n",
              "    }\n",
              "\n",
              "    .colab-df-convert:hover {\n",
              "      background-color: #E2EBFA;\n",
              "      box-shadow: 0px 1px 2px rgba(60, 64, 67, 0.3), 0px 1px 3px 1px rgba(60, 64, 67, 0.15);\n",
              "      fill: #174EA6;\n",
              "    }\n",
              "\n",
              "    [theme=dark] .colab-df-convert {\n",
              "      background-color: #3B4455;\n",
              "      fill: #D2E3FC;\n",
              "    }\n",
              "\n",
              "    [theme=dark] .colab-df-convert:hover {\n",
              "      background-color: #434B5C;\n",
              "      box-shadow: 0px 1px 3px 1px rgba(0, 0, 0, 0.15);\n",
              "      filter: drop-shadow(0px 1px 2px rgba(0, 0, 0, 0.3));\n",
              "      fill: #FFFFFF;\n",
              "    }\n",
              "  </style>\n",
              "\n",
              "      <script>\n",
              "        const buttonEl =\n",
              "          document.querySelector('#df-1fc5b0dc-4fb4-4cb8-bf68-9d4679157bb5 button.colab-df-convert');\n",
              "        buttonEl.style.display =\n",
              "          google.colab.kernel.accessAllowed ? 'block' : 'none';\n",
              "\n",
              "        async function convertToInteractive(key) {\n",
              "          const element = document.querySelector('#df-1fc5b0dc-4fb4-4cb8-bf68-9d4679157bb5');\n",
              "          const dataTable =\n",
              "            await google.colab.kernel.invokeFunction('convertToInteractive',\n",
              "                                                     [key], {});\n",
              "          if (!dataTable) return;\n",
              "\n",
              "          const docLinkHtml = 'Like what you see? Visit the ' +\n",
              "            '<a target=\"_blank\" href=https://colab.research.google.com/notebooks/data_table.ipynb>data table notebook</a>'\n",
              "            + ' to learn more about interactive tables.';\n",
              "          element.innerHTML = '';\n",
              "          dataTable['output_type'] = 'display_data';\n",
              "          await google.colab.output.renderOutput(dataTable, element);\n",
              "          const docLink = document.createElement('div');\n",
              "          docLink.innerHTML = docLinkHtml;\n",
              "          element.appendChild(docLink);\n",
              "        }\n",
              "      </script>\n",
              "    </div>\n",
              "  </div>\n",
              "  "
            ]
          },
          "metadata": {},
          "execution_count": 188
        }
      ]
    },
    {
      "cell_type": "markdown",
      "source": [
        "#Different Models implementation "
      ],
      "metadata": {
        "id": "MzU01OELQqY5"
      }
    },
    {
      "cell_type": "code",
      "source": [
        "from sklearn.model_selection import train_test_split \n",
        "X_train,X_test,y_train,y_test = train_test_split(scaled_inputs,output,train_size=0.2)  #splitting data (minmax scaler)"
      ],
      "metadata": {
        "id": "ODOJmBMUNFMh"
      },
      "execution_count": 189,
      "outputs": []
    },
    {
      "cell_type": "code",
      "source": [
        "X_train_st,X_test_st,y_train_st,y_test_st = train_test_split(standard_scaled_inputs,output,train_size=0.2)  #splitting data (standard scaler )"
      ],
      "metadata": {
        "id": "C20tNRGbudjg"
      },
      "execution_count": 190,
      "outputs": []
    },
    {
      "cell_type": "code",
      "source": [
        "from sklearn.linear_model import LinearRegression,Ridge,Lasso                   #importing linear,Ridge and lasso regession \n",
        "from sklearn.neighbors import KNeighborsRegressor                               #importing  Nearest Neighbour Regression\n",
        "from sklearn.svm import SVR                                                     #importing Support Vector Regression\n",
        "from sklearn.tree import DecisionTreeRegressor                                  #importing Tree Regression\n",
        "from sklearn.ensemble import RandomForestRegressor,GradientBoostingRegressor    #importing Random Forest Regression and Gradient Boosted Regression \n",
        "\n",
        "from sklearn.metrics import mean_squared_error,r2_score "
      ],
      "metadata": {
        "id": "KPx1vi62dz6R"
      },
      "execution_count": 191,
      "outputs": []
    },
    {
      "cell_type": "code",
      "source": [
        "class models:\n",
        "  def __init__(self,X_train,X_test,y_train,y_test):\n",
        "    self.X_train = X_train\n",
        "    self.X_test = X_test \n",
        "    self.y_train = y_train \n",
        "    self.y_test = y_test \n",
        "\n",
        "  def prediction(self,model,model_name):\n",
        "    model.fit(self.X_train,self.y_train)\n",
        "    predicted_out =model.predict(self.X_test)\n",
        "    self.rmse= mean_squared_error( self.y_test,predicted_out,squared = False)    #This will give Rmse \n",
        "    print(f\"{model_name} : RMSE score : {self.rmse}\")\n",
        "    print('-------------------------------------')\n",
        "    \n",
        "  def get_score(self):\n",
        "    return self.rmse\n",
        "  "
      ],
      "metadata": {
        "id": "rvLRa1H8Q7oY"
      },
      "execution_count": 284,
      "outputs": []
    },
    {
      "cell_type": "code",
      "source": [
        "model_dict = {\n",
        "      \"Linear Regression\" : LinearRegression(),\n",
        "      \"Ridge Regression\"  : Ridge(),\n",
        "      \"Lasso Regression\"  : Lasso(),\n",
        "      \"Nearest Neighbour Regression\" : KNeighborsRegressor(),\n",
        "      \"Support Vector Regression\"  : SVR(),\n",
        "      \"Tree Regression\"   :  DecisionTreeRegressor(),\n",
        "      \"Random Forest Regression\": RandomForestRegressor(),\n",
        "      \"Gradient Boosted Regression\" : GradientBoostingRegressor()\n",
        "}"
      ],
      "metadata": {
        "id": "UzCc4gTTx5Z1"
      },
      "execution_count": 285,
      "outputs": []
    },
    {
      "cell_type": "code",
      "source": [
        "score_minmax=count=0\n",
        "model_minmax =  models(X_train,X_test,y_train,y_test)\n",
        "for model_name,model in model_dict.items():\n",
        "   model_minmax.prediction(model,model_name)\n",
        "   score_minmax += model_minmax.get_score()\n",
        "   count +=1\n",
        "print(\"Average RMSE SCORE (for all models):\",score_minmax/count)"
      ],
      "metadata": {
        "colab": {
          "base_uri": "https://localhost:8080/"
        },
        "id": "n5J310JunE7z",
        "outputId": "862afa42-db94-4b01-d024-1f9def7d5568"
      },
      "execution_count": 309,
      "outputs": [
        {
          "output_type": "stream",
          "name": "stdout",
          "text": [
            "Linear Regression : RMSE score : 5.947817559475139\n",
            "-------------------------------------\n",
            "Ridge Regression : RMSE score : 5.836540084573828\n",
            "-------------------------------------\n",
            "Lasso Regression : RMSE score : 8.07976526385813\n",
            "-------------------------------------\n",
            "Nearest Neighbour Regression : RMSE score : 7.217739644975831\n",
            "-------------------------------------\n",
            "Support Vector Regression : RMSE score : 10.02646510977177\n",
            "-------------------------------------\n",
            "Tree Regression : RMSE score : 8.169579702795316\n",
            "-------------------------------------\n",
            "Random Forest Regression : RMSE score : 6.477659569053272\n",
            "-------------------------------------\n",
            "Gradient Boosted Regression : RMSE score : 6.087234490817239\n",
            "-------------------------------------\n",
            "Average RMSE SCORE (for all models): 7.230350178165065\n"
          ]
        }
      ]
    },
    {
      "cell_type": "code",
      "source": [
        "score_standard=count=0\n",
        "model_standard = models(X_train_st,X_test_st,y_train_st,y_test_st)\n",
        "for model_name,model in model_dict.items():\n",
        "   model_standard.prediction(model,model_name)\n",
        "   score_standard += model_standard.get_score()\n",
        "   count +=1\n",
        "print(\"Average RMSE SCORE (for all models):\",score_standard/count)"
      ],
      "metadata": {
        "colab": {
          "base_uri": "https://localhost:8080/"
        },
        "id": "d9X3iHPFxdkJ",
        "outputId": "d6254291-83f3-4562-ad5a-c838176d8447"
      },
      "execution_count": 310,
      "outputs": [
        {
          "output_type": "stream",
          "name": "stdout",
          "text": [
            "Linear Regression : RMSE score : 6.4194690589220755\n",
            "-------------------------------------\n",
            "Ridge Regression : RMSE score : 6.366682992795678\n",
            "-------------------------------------\n",
            "Lasso Regression : RMSE score : 6.171644330034411\n",
            "-------------------------------------\n",
            "Nearest Neighbour Regression : RMSE score : 6.13802672580699\n",
            "-------------------------------------\n",
            "Support Vector Regression : RMSE score : 8.807106420164098\n",
            "-------------------------------------\n",
            "Tree Regression : RMSE score : 8.614264655532446\n",
            "-------------------------------------\n",
            "Random Forest Regression : RMSE score : 6.03904190150026\n",
            "-------------------------------------\n",
            "Gradient Boosted Regression : RMSE score : 6.441490203985616\n",
            "-------------------------------------\n",
            "Average RMSE SCORE (for all models): 6.874715786092697\n"
          ]
        }
      ]
    },
    {
      "cell_type": "markdown",
      "source": [
        "**With this comparison i can say we can use standard scaler for the model training and further procedure ◀**\n",
        "**As we are getting less rmse for the standard scaler data**"
      ],
      "metadata": {
        "id": "qlMfEjZ-x_Fy"
      }
    },
    {
      "cell_type": "code",
      "source": [
        "scaler_scores = {'MinMax Scaler' : score_minmax/count,\n",
        "                 'Standard Scaler' : score_standard/count}"
      ],
      "metadata": {
        "id": "Jm0FOUm93jLU"
      },
      "execution_count": 311,
      "outputs": []
    },
    {
      "cell_type": "code",
      "source": [
        "names = list(scaler_scores.keys())\n",
        "values = list(scaler_scores.values())\n",
        "\n",
        "plt.figure(figsize=(3,5)) \n",
        "plt.bar(range(len(scaler_scores)), values, tick_label=names)\n",
        "plt.xticks(rotation=90)\n",
        "print('Average RMSE score')\n",
        "plt.show()\n"
      ],
      "metadata": {
        "colab": {
          "base_uri": "https://localhost:8080/",
          "height": 559
        },
        "id": "-dUKzrWk3bOh",
        "outputId": "fae7782b-4747-46a4-9727-74da585d13d0"
      },
      "execution_count": 314,
      "outputs": [
        {
          "output_type": "stream",
          "name": "stdout",
          "text": [
            "Average RMSE score\n"
          ]
        },
        {
          "output_type": "display_data",
          "data": {
            "text/plain": [
              "<Figure size 300x500 with 1 Axes>"
            ],
            "image/png": "[encoded data removed]"
          },
          "metadata": {}
        }
      ]
    },
    {
      "cell_type": "markdown",
      "source": [
        "In this we calculated the RMSE scores for each model using both minmax scaling and standard scaling methods and we get the results we average out the value and we se that we get better results in case of standard scaler(as less the RSME value the better the model is)"
      ],
      "metadata": {
        "id": "mSB7s4y74Ywm"
      }
    },
    {
      "cell_type": "markdown",
      "source": [
        "#Hyperparameters Tuning and Model selction "
      ],
      "metadata": {
        "id": "gFpUWOx9zG5-"
      }
    },
    {
      "cell_type": "code",
      "source": [
        "from sklearn.model_selection import GridSearchCV"
      ],
      "metadata": {
        "id": "4IJkgOlTzPpr"
      },
      "execution_count": 196,
      "outputs": []
    },
    {
      "cell_type": "code",
      "source": [
        "lr_param_grid = {}\n",
        "lasso_param_grid = {'alpha': [ 0.0001, 0.001, 0.01, 0.1, 1, 10, 100]}\n",
        "ridge_param_grid = {'alpha': [ 0.0001, 0.001, 0.01, 0.1, 1, 10, 100]}\n",
        "knn_param_grid = {'n_neighbors': [4,5,6,7,8,9,10,11,12], \n",
        "                   'weights': ['uniform', 'distance']}\n",
        "svr_param_grid = {'C': [0.1, 1, 10, 100, 1000], \n",
        "                  'gamma': [1, 0.1, 0.01, 0.001, 0.0001],\n",
        "                  'kernel': ['rbf']} \n",
        "tree_param_grid = { 'random_state' : [15,25,30,35,45],\n",
        "                    'splitter': ['best', 'random'],\n",
        "                   'min_samples_leaf': [1, 2 ,3],\n",
        "                   'max_depth': [6,8,10,12,14,16,18]}\n",
        "rf_param_grid = {  'random_state' : [15,25,30,35,45],\n",
        "                   'bootstrap': [True],\n",
        "                  'max_depth': [8, 10, 12, 14, 16],\n",
        "                  'min_samples_leaf': [1, 2, 3],\n",
        "                  'n_estimators': [40, 50, 60, 70],\n",
        "                  'max_features': [0.3, 0.4, 0.5]}\n",
        "gb_param_grid = { 'random_state' : [15,25,30,35,45],\n",
        "                 'learning_rate': [0.01,0.02,0.03,0.04],\n",
        "                  'subsample'    : [0.9, 0.5, 0.2, 0.1],\n",
        "                  'n_estimators' : [50, 100, 200, 300],\n",
        "                  'max_depth'    : [4,6,8,10]}"
      ],
      "metadata": {
        "id": "vVm1yw21zlNI"
      },
      "execution_count": 197,
      "outputs": []
    },
    {
      "cell_type": "code",
      "source": [
        "model_dict_tuning = {\n",
        "      \"Linear Regression\" : (LinearRegression(),lr_param_grid),\n",
        "      \"Ridge Regression\"  : (Ridge(),ridge_param_grid),\n",
        "      \"Lasso Regression\"  : (Lasso(),lasso_param_grid),\n",
        "      \"Nearest Neighbour Regression\" : (KNeighborsRegressor(),knn_param_grid),\n",
        "      \"Support Vector Regression\"  : (SVR(),svr_param_grid),\n",
        "      \"Tree Regression\"   :  (DecisionTreeRegressor(),tree_param_grid),\n",
        "      \"Random Forest Regression\": (RandomForestRegressor(),rf_param_grid),\n",
        "      \"Gradient Boosted Regression\" : (GradientBoostingRegressor(),gb_param_grid)\n",
        "}"
      ],
      "metadata": {
        "id": "DSoxPh6eCpgy"
      },
      "execution_count": 198,
      "outputs": []
    },
    {
      "cell_type": "code",
      "source": [
        "# Perform grid search for each model\n",
        "best_para_dict = {}\n",
        "scores = {}\n",
        "for name, (model, param_grid) in model_dict_tuning.items():\n",
        "    grid_search = GridSearchCV(model, param_grid, cv=5,scoring ='r2')\n",
        "    grid_search.fit(X_train_st, y_train_st)\n",
        "    train_score = grid_search.score(X_train_st, y_train_st)\n",
        "    test_score = grid_search.score(X_test_st, y_test_st)\n",
        "    scores[name] = grid_search.best_score_\n",
        "    best_para_dict[name] = (model,grid_search.best_params_)    #storing best parameter in a dictionary\n",
        "    print(name + ':')\n",
        "    print(f'Best parameters: {grid_search.best_params_}')\n",
        "    print(f'Best Estimater Cross Validation Score : {grid_search.best_score_}')\n",
        "    print('Train score: {:.2f}'.format(train_score))\n",
        "    print('Test score: {:.2f}'.format(test_score))\n",
        "    print('-------------------------------------')"
      ],
      "metadata": {
        "colab": {
          "base_uri": "https://localhost:8080/"
        },
        "id": "tZoonnjwDPcW",
        "outputId": "cf4b17ee-add0-4508-d13b-94e38cf79c17"
      },
      "execution_count": 298,
      "outputs": [
        {
          "output_type": "stream",
          "name": "stdout",
          "text": [
            "Linear Regression:\n",
            "Best parameters: {}\n",
            "Best Estimater Cross Validation Score : 0.5727236015025836\n",
            "Train score: 0.82\n",
            "Test score: 0.66\n",
            "-------------------------------------\n",
            "Ridge Regression:\n",
            "Best parameters: {'alpha': 100}\n",
            "Best Estimater Cross Validation Score : 0.6591423201429502\n",
            "Train score: 0.77\n",
            "Test score: 0.72\n",
            "-------------------------------------\n",
            "Lasso Regression:\n",
            "Best parameters: {'alpha': 1}\n",
            "Best Estimater Cross Validation Score : 0.5967416792364877\n",
            "Train score: 0.80\n",
            "Test score: 0.69\n",
            "-------------------------------------\n",
            "Nearest Neighbour Regression:\n",
            "Best parameters: {'n_neighbors': 10, 'weights': 'distance'}\n",
            "Best Estimater Cross Validation Score : 0.6630288991489011\n",
            "Train score: 1.00\n",
            "Test score: 0.69\n",
            "-------------------------------------\n",
            "Support Vector Regression:\n",
            "Best parameters: {'C': 1000, 'gamma': 0.0001, 'kernel': 'rbf'}\n",
            "Best Estimater Cross Validation Score : 0.7032538491342446\n",
            "Train score: 0.77\n",
            "Test score: 0.73\n",
            "-------------------------------------\n",
            "Tree Regression:\n",
            "Best parameters: {'max_depth': 8, 'min_samples_leaf': 3, 'random_state': 35, 'splitter': 'random'}\n",
            "Best Estimater Cross Validation Score : 0.5841391824758251\n",
            "Train score: 0.79\n",
            "Test score: 0.57\n",
            "-------------------------------------\n",
            "Random Forest Regression:\n",
            "Best parameters: {'bootstrap': True, 'max_depth': 12, 'max_features': 0.3, 'min_samples_leaf': 1, 'n_estimators': 40, 'random_state': 45}\n",
            "Best Estimater Cross Validation Score : 0.7330190016810256\n",
            "Train score: 0.97\n",
            "Test score: 0.76\n",
            "-------------------------------------\n",
            "Gradient Boosted Regression:\n",
            "Best parameters: {'learning_rate': 0.03, 'max_depth': 4, 'n_estimators': 200, 'random_state': 25, 'subsample': 0.1}\n",
            "Best Estimater Cross Validation Score : 0.7158486112416548\n",
            "Train score: 0.88\n",
            "Test score: 0.67\n",
            "-------------------------------------\n"
          ]
        }
      ]
    },
    {
      "cell_type": "code",
      "source": [
        "names = list(scores.keys())\n",
        "values = list(scores.values())\n",
        "\n",
        "plt.figure(figsize=(10,5)) \n",
        "plt.bar(range(len(scores)), values, tick_label=names)\n",
        "plt.xticks(rotation=90)\n",
        "plt.show()"
      ],
      "metadata": {
        "colab": {
          "base_uri": "https://localhost:8080/",
          "height": 642
        },
        "id": "WsWFArGMmFBp",
        "outputId": "8a14bbea-bb8c-4897-91d4-27d5d925ee0d"
      },
      "execution_count": 308,
      "outputs": [
        {
          "output_type": "display_data",
          "data": {
            "text/plain": [
              "<Figure size 1000x500 with 1 Axes>"
            ],
            "image/png": "[encoded data removed]"
          },
          "metadata": {}
        }
      ]
    },
    {
      "cell_type": "markdown",
      "source": [
        "We use R2 scoring method for evaluating the performance of the cross validation models ,hence more the score the better the model is \n"
      ],
      "metadata": {
        "id": "AselLPmW4xVA"
      }
    },
    {
      "cell_type": "markdown",
      "source": [
        "As we are getting highest cross validation score for Random Forest Regression so we are selecting that for best model "
      ],
      "metadata": {
        "id": "oeRBz0AXjxDe"
      }
    },
    {
      "cell_type": "code",
      "source": [
        "#SAVING THE BEST MODELS \n",
        "\n",
        "best_model = RandomForestRegressor(bootstrap= True, max_depth= 12, max_features= 0.3, min_samples_leaf= 1, n_estimators=40)\n",
        "best_model.fit(scaled_inputs,output)"
      ],
      "metadata": {
        "colab": {
          "base_uri": "https://localhost:8080/",
          "height": 74
        },
        "id": "wqiAkV8Dv8fo",
        "outputId": "d6701360-21e2-4d8d-932d-1b3acacc610b"
      },
      "execution_count": 290,
      "outputs": [
        {
          "output_type": "execute_result",
          "data": {
            "text/plain": [
              "RandomForestRegressor(max_depth=12, max_features=0.3, n_estimators=40)"
            ],
            "text/html": [
              "<style>#sk-container-id-10 {color: black;background-color: white;}#sk-container-id-10 pre{padding: 0;}#sk-container-id-10 div.sk-toggleable {background-color: white;}#sk-container-id-10 label.sk-toggleable__label {cursor: pointer;display: block;width: 100%;margin-bottom: 0;padding: 0.3em;box-sizing: border-box;text-align: center;}#sk-container-id-10 label.sk-toggleable__label-arrow:before {content: \"▸\";float: left;margin-right: 0.25em;color: #696969;}#sk-container-id-10 label.sk-toggleable__label-arrow:hover:before {color: black;}#sk-container-id-10 div.sk-estimator:hover label.sk-toggleable__label-arrow:before {color: black;}#sk-container-id-10 div.sk-toggleable__content {max-height: 0;max-width: 0;overflow: hidden;text-align: left;background-color: #f0f8ff;}#sk-container-id-10 div.sk-toggleable__content pre {margin: 0.2em;color: black;border-radius: 0.25em;background-color: #f0f8ff;}#sk-container-id-10 input.sk-toggleable__control:checked~div.sk-toggleable__content {max-height: 200px;max-width: 100%;overflow: auto;}#sk-container-id-10 input.sk-toggleable__control:checked~label.sk-toggleable__label-arrow:before {content: \"▾\";}#sk-container-id-10 div.sk-estimator input.sk-toggleable__control:checked~label.sk-toggleable__label {background-color: #d4ebff;}#sk-container-id-10 div.sk-label input.sk-toggleable__control:checked~label.sk-toggleable__label {background-color: #d4ebff;}#sk-container-id-10 input.sk-hidden--visually {border: 0;clip: rect(1px 1px 1px 1px);clip: rect(1px, 1px, 1px, 1px);height: 1px;margin: -1px;overflow: hidden;padding: 0;position: absolute;width: 1px;}#sk-container-id-10 div.sk-estimator {font-family: monospace;background-color: #f0f8ff;border: 1px dotted black;border-radius: 0.25em;box-sizing: border-box;margin-bottom: 0.5em;}#sk-container-id-10 div.sk-estimator:hover {background-color: #d4ebff;}#sk-container-id-10 div.sk-parallel-item::after {content: \"\";width: 100%;border-bottom: 1px solid gray;flex-grow: 1;}#sk-container-id-10 div.sk-label:hover label.sk-toggleable__label {background-color: #d4ebff;}#sk-container-id-10 div.sk-serial::before {content: \"\";position: absolute;border-left: 1px solid gray;box-sizing: border-box;top: 0;bottom: 0;left: 50%;z-index: 0;}#sk-container-id-10 div.sk-serial {display: flex;flex-direction: column;align-items: center;background-color: white;padding-right: 0.2em;padding-left: 0.2em;position: relative;}#sk-container-id-10 div.sk-item {position: relative;z-index: 1;}#sk-container-id-10 div.sk-parallel {display: flex;align-items: stretch;justify-content: center;background-color: white;position: relative;}#sk-container-id-10 div.sk-item::before, #sk-container-id-10 div.sk-parallel-item::before {content: \"\";position: absolute;border-left: 1px solid gray;box-sizing: border-box;top: 0;bottom: 0;left: 50%;z-index: -1;}#sk-container-id-10 div.sk-parallel-item {display: flex;flex-direction: column;z-index: 1;position: relative;background-color: white;}#sk-container-id-10 div.sk-parallel-item:first-child::after {align-self: flex-end;width: 50%;}#sk-container-id-10 div.sk-parallel-item:last-child::after {align-self: flex-start;width: 50%;}#sk-container-id-10 div.sk-parallel-item:only-child::after {width: 0;}#sk-container-id-10 div.sk-dashed-wrapped {border: 1px dashed gray;margin: 0 0.4em 0.5em 0.4em;box-sizing: border-box;padding-bottom: 0.4em;background-color: white;}#sk-container-id-10 div.sk-label label {font-family: monospace;font-weight: bold;display: inline-block;line-height: 1.2em;}#sk-container-id-10 div.sk-label-container {text-align: center;}#sk-container-id-10 div.sk-container {/* jupyter's `normalize.less` sets `[hidden] { display: none; }` but bootstrap.min.css set `[hidden] { display: none !important; }` so we also need the `!important` here to be able to override the default hidden behavior on the sphinx rendered scikit-learn.org. See: https://github.com/scikit-learn/scikit-learn/issues/21755 */display: inline-block !important;position: relative;}#sk-container-id-10 div.sk-text-repr-fallback {display: none;}</style><div id=\"sk-container-id-10\" class=\"sk-top-container\"><div class=\"sk-text-repr-fallback\"><pre>RandomForestRegressor(max_depth=12, max_features=0.3, n_estimators=40)</pre><b>In a Jupyter environment, please rerun this cell to show the HTML representation or trust the notebook. <br />On GitHub, the HTML representation is unable to render, please try loading this page with nbviewer.org.</b></div><div class=\"sk-container\" hidden><div class=\"sk-item\"><div class=\"sk-estimator sk-toggleable\"><input class=\"sk-toggleable__control sk-hidden--visually\" id=\"sk-estimator-id-10\" type=\"checkbox\" checked><label for=\"sk-estimator-id-10\" class=\"sk-toggleable__label sk-toggleable__label-arrow\">RandomForestRegressor</label><div class=\"sk-toggleable__content\"><pre>RandomForestRegressor(max_depth=12, max_features=0.3, n_estimators=40)</pre></div></div></div></div></div>"
            ]
          },
          "metadata": {},
          "execution_count": 290
        }
      ]
    },
    {
      "cell_type": "markdown",
      "source": [
        "#Implement a Genetic Algorithm"
      ],
      "metadata": {
        "id": "tHiUTPVV8uJ6"
      }
    },
    {
      "cell_type": "code",
      "source": [
        "class genetic_algorithm:\n",
        "  def __init__(self):\n",
        "    pass \n",
        "  def fitness_function(self):\n",
        "    pass\n",
        "  def crossover(self):\n",
        "    pass\n",
        "  def mutation(self):\n",
        "    pass"
      ],
      "metadata": {
        "id": "2poUp0bo8twZ"
      },
      "execution_count": 291,
      "outputs": []
    },
    {
      "cell_type": "code",
      "source": [
        "genetic_algo = genetic_algorithm()"
      ],
      "metadata": {
        "id": "5TcnlThBWy60"
      },
      "execution_count": 292,
      "outputs": []
    },
    {
      "cell_type": "markdown",
      "source": [
        "#Model Deployment "
      ],
      "metadata": {
        "id": "Qb5VWE__65Ak"
      }
    },
    {
      "cell_type": "code",
      "source": [
        "import pickle\n",
        "\n",
        "pickle.dump(best_model,open('best_model_rfr.pkl','wb'))\n",
        "pickle.dump(scaler_standard,open('scaler.pkl','wb'))"
      ],
      "metadata": {
        "id": "Qp3JuLRJ69cX"
      },
      "execution_count": 293,
      "outputs": []
    },
    {
      "cell_type": "code",
      "source": [
        "load_model = pickle.load(open('best_model_rfr.pkl','rb'))\n",
        "model_score = load_model.score(X_test,y_test)\n",
        "print(model_score)"
      ],
      "metadata": {
        "colab": {
          "base_uri": "https://localhost:8080/"
        },
        "id": "167ry0WwWFx1",
        "outputId": "36c2b007-4989-4162-cd53-fc6fcc02da7a"
      },
      "execution_count": 294,
      "outputs": [
        {
          "output_type": "stream",
          "name": "stdout",
          "text": [
            "0.969943324834017\n"
          ]
        }
      ]
    },
    {
      "cell_type": "code",
      "source": [
        "X_test[:5]"
      ],
      "metadata": {
        "colab": {
          "base_uri": "https://localhost:8080/",
          "height": 206
        },
        "id": "fjdnOoVmDY09",
        "outputId": "f6669d31-b141-422d-a80a-406da5b456c4"
      },
      "execution_count": 295,
      "outputs": [
        {
          "output_type": "execute_result",
          "data": {
            "text/plain": [
              "          age  position_cat  page_views  fpl_value   fpl_sel  fpl_points  \\\n",
              "225  0.476190      0.333333    0.160945   0.176471  0.040000    0.276515   \n",
              "30   0.619048      0.666667    0.023757   0.117647  0.440000    0.507576   \n",
              "39   0.619048      0.000000    0.017883   0.117647  0.002222    0.242424   \n",
              "222  0.285714      0.333333    0.163164   0.117647  0.146667    0.393939   \n",
              "124  0.333333      0.666667    0.049863   0.117647  0.006667    0.178030   \n",
              "\n",
              "       region  new_foreign  age_cat   club_id  big_club  new_signing  \n",
              "225  0.000000          0.0      0.4  0.473684       1.0          0.0  \n",
              "30   0.000000          0.0      0.6  0.052632       0.0          0.0  \n",
              "39   0.000000          0.0      0.6  0.052632       0.0          0.0  \n",
              "222  0.333333          0.0      0.2  0.473684       1.0          0.0  \n",
              "124  1.000000          0.0      0.2  0.263158       0.0          0.0  "
            ],
            "text/html": [
              "\n",
              "  <div id=\"df-9b8b96f5-89ec-43a4-af0e-f94e446c649a\">\n",
              "    <div class=\"colab-df-container\">\n",
              "      <div>\n",
              "<style scoped>\n",
              "    .dataframe tbody tr th:only-of-type {\n",
              "        vertical-align: middle;\n",
              "    }\n",
              "\n",
              "    .dataframe tbody tr th {\n",
              "        vertical-align: top;\n",
              "    }\n",
              "\n",
              "    .dataframe thead th {\n",
              "        text-align: right;\n",
              "    }\n",
              "</style>\n",
              "<table border=\"1\" class=\"dataframe\">\n",
              "  <thead>\n",
              "    <tr style=\"text-align: right;\">\n",
              "      <th></th>\n",
              "      <th>age</th>\n",
              "      <th>position_cat</th>\n",
              "      <th>page_views</th>\n",
              "      <th>fpl_value</th>\n",
              "      <th>fpl_sel</th>\n",
              "      <th>fpl_points</th>\n",
              "      <th>region</th>\n",
              "      <th>new_foreign</th>\n",
              "      <th>age_cat</th>\n",
              "      <th>club_id</th>\n",
              "      <th>big_club</th>\n",
              "      <th>new_signing</th>\n",
              "    </tr>\n",
              "  </thead>\n",
              "  <tbody>\n",
              "    <tr>\n",
              "      <th>225</th>\n",
              "      <td>0.476190</td>\n",
              "      <td>0.333333</td>\n",
              "      <td>0.160945</td>\n",
              "      <td>0.176471</td>\n",
              "      <td>0.040000</td>\n",
              "      <td>0.276515</td>\n",
              "      <td>0.000000</td>\n",
              "      <td>0.0</td>\n",
              "      <td>0.4</td>\n",
              "      <td>0.473684</td>\n",
              "      <td>1.0</td>\n",
              "      <td>0.0</td>\n",
              "    </tr>\n",
              "    <tr>\n",
              "      <th>30</th>\n",
              "      <td>0.619048</td>\n",
              "      <td>0.666667</td>\n",
              "      <td>0.023757</td>\n",
              "      <td>0.117647</td>\n",
              "      <td>0.440000</td>\n",
              "      <td>0.507576</td>\n",
              "      <td>0.000000</td>\n",
              "      <td>0.0</td>\n",
              "      <td>0.6</td>\n",
              "      <td>0.052632</td>\n",
              "      <td>0.0</td>\n",
              "      <td>0.0</td>\n",
              "    </tr>\n",
              "    <tr>\n",
              "      <th>39</th>\n",
              "      <td>0.619048</td>\n",
              "      <td>0.000000</td>\n",
              "      <td>0.017883</td>\n",
              "      <td>0.117647</td>\n",
              "      <td>0.002222</td>\n",
              "      <td>0.242424</td>\n",
              "      <td>0.000000</td>\n",
              "      <td>0.0</td>\n",
              "      <td>0.6</td>\n",
              "      <td>0.052632</td>\n",
              "      <td>0.0</td>\n",
              "      <td>0.0</td>\n",
              "    </tr>\n",
              "    <tr>\n",
              "      <th>222</th>\n",
              "      <td>0.285714</td>\n",
              "      <td>0.333333</td>\n",
              "      <td>0.163164</td>\n",
              "      <td>0.117647</td>\n",
              "      <td>0.146667</td>\n",
              "      <td>0.393939</td>\n",
              "      <td>0.333333</td>\n",
              "      <td>0.0</td>\n",
              "      <td>0.2</td>\n",
              "      <td>0.473684</td>\n",
              "      <td>1.0</td>\n",
              "      <td>0.0</td>\n",
              "    </tr>\n",
              "    <tr>\n",
              "      <th>124</th>\n",
              "      <td>0.333333</td>\n",
              "      <td>0.666667</td>\n",
              "      <td>0.049863</td>\n",
              "      <td>0.117647</td>\n",
              "      <td>0.006667</td>\n",
              "      <td>0.178030</td>\n",
              "      <td>1.000000</td>\n",
              "      <td>0.0</td>\n",
              "      <td>0.2</td>\n",
              "      <td>0.263158</td>\n",
              "      <td>0.0</td>\n",
              "      <td>0.0</td>\n",
              "    </tr>\n",
              "  </tbody>\n",
              "</table>\n",
              "</div>\n",
              "      <button class=\"colab-df-convert\" onclick=\"convertToInteractive('df-9b8b96f5-89ec-43a4-af0e-f94e446c649a')\"\n",
              "              title=\"Convert this dataframe to an interactive table.\"\n",
              "              style=\"display:none;\">\n",
              "        \n",
              "  <svg xmlns=\"http://www.w3.org/2000/svg\" height=\"24px\"viewBox=\"0 0 24 24\"\n",
              "       width=\"24px\">\n",
              "    <path d=\"M0 0h24v24H0V0z\" fill=\"none\"/>\n",
              "    <path d=\"M18.56 5.44l.94 2.06.94-2.06 2.06-.94-2.06-.94-.94-2.06-.94 2.06-2.06.94zm-11 1L8.5 8.5l.94-2.06 2.06-.94-2.06-.94L8.5 2.5l-.94 2.06-2.06.94zm10 10l.94 2.06.94-2.06 2.06-.94-2.06-.94-.94-2.06-.94 2.06-2.06.94z\"/><path d=\"M17.41 7.96l-1.37-1.37c-.4-.4-.92-.59-1.43-.59-.52 0-1.04.2-1.43.59L10.3 9.45l-7.72 7.72c-.78.78-.78 2.05 0 2.83L4 21.41c.39.39.9.59 1.41.59.51 0 1.02-.2 1.41-.59l7.78-7.78 2.81-2.81c.8-.78.8-2.07 0-2.86zM5.41 20L4 18.59l7.72-7.72 1.47 1.35L5.41 20z\"/>\n",
              "  </svg>\n",
              "      </button>\n",
              "      \n",
              "  <style>\n",
              "    .colab-df-container {\n",
              "      display:flex;\n",
              "      flex-wrap:wrap;\n",
              "      gap: 12px;\n",
              "    }\n",
              "\n",
              "    .colab-df-convert {\n",
              "      background-color: #E8F0FE;\n",
              "      border: none;\n",
              "      border-radius: 50%;\n",
              "      cursor: pointer;\n",
              "      display: none;\n",
              "      fill: #1967D2;\n",
              "      height: 32px;\n",
              "      padding: 0 0 0 0;\n",
              "      width: 32px;\n",
              "    }\n",
              "\n",
              "    .colab-df-convert:hover {\n",
              "      background-color: #E2EBFA;\n",
              "      box-shadow: 0px 1px 2px rgba(60, 64, 67, 0.3), 0px 1px 3px 1px rgba(60, 64, 67, 0.15);\n",
              "      fill: #174EA6;\n",
              "    }\n",
              "\n",
              "    [theme=dark] .colab-df-convert {\n",
              "      background-color: #3B4455;\n",
              "      fill: #D2E3FC;\n",
              "    }\n",
              "\n",
              "    [theme=dark] .colab-df-convert:hover {\n",
              "      background-color: #434B5C;\n",
              "      box-shadow: 0px 1px 3px 1px rgba(0, 0, 0, 0.15);\n",
              "      filter: drop-shadow(0px 1px 2px rgba(0, 0, 0, 0.3));\n",
              "      fill: #FFFFFF;\n",
              "    }\n",
              "  </style>\n",
              "\n",
              "      <script>\n",
              "        const buttonEl =\n",
              "          document.querySelector('#df-9b8b96f5-89ec-43a4-af0e-f94e446c649a button.colab-df-convert');\n",
              "        buttonEl.style.display =\n",
              "          google.colab.kernel.accessAllowed ? 'block' : 'none';\n",
              "\n",
              "        async function convertToInteractive(key) {\n",
              "          const element = document.querySelector('#df-9b8b96f5-89ec-43a4-af0e-f94e446c649a');\n",
              "          const dataTable =\n",
              "            await google.colab.kernel.invokeFunction('convertToInteractive',\n",
              "                                                     [key], {});\n",
              "          if (!dataTable) return;\n",
              "\n",
              "          const docLinkHtml = 'Like what you see? Visit the ' +\n",
              "            '<a target=\"_blank\" href=https://colab.research.google.com/notebooks/data_table.ipynb>data table notebook</a>'\n",
              "            + ' to learn more about interactive tables.';\n",
              "          element.innerHTML = '';\n",
              "          dataTable['output_type'] = 'display_data';\n",
              "          await google.colab.output.renderOutput(dataTable, element);\n",
              "          const docLink = document.createElement('div');\n",
              "          docLink.innerHTML = docLinkHtml;\n",
              "          element.appendChild(docLink);\n",
              "        }\n",
              "      </script>\n",
              "    </div>\n",
              "  </div>\n",
              "  "
            ]
          },
          "metadata": {},
          "execution_count": 295
        }
      ]
    },
    {
      "cell_type": "code",
      "source": [
        "y_test[:5]\n"
      ],
      "metadata": {
        "colab": {
          "base_uri": "https://localhost:8080/"
        },
        "id": "y_6d2jDKDsA4",
        "outputId": "33b04487-32e0-4ccf-cbfa-3c2f3a28a61b"
      },
      "execution_count": 296,
      "outputs": [
        {
          "output_type": "execute_result",
          "data": {
            "text/plain": [
              "225    28.0\n",
              "30      3.0\n",
              "39      2.0\n",
              "222    15.0\n",
              "124     8.0\n",
              "Name: market_value, dtype: float64"
            ]
          },
          "metadata": {},
          "execution_count": 296
        }
      ]
    },
    {
      "cell_type": "code",
      "source": [
        "model_prediction =  load_model.predict(X_test[:5])\n",
        "print(model_prediction)"
      ],
      "metadata": {
        "colab": {
          "base_uri": "https://localhost:8080/"
        },
        "id": "QSrLA1rQDtWJ",
        "outputId": "83ffe56b-de94-43ba-8751-e14e8e738224"
      },
      "execution_count": 267,
      "outputs": [
        {
          "output_type": "stream",
          "name": "stdout",
          "text": [
            "[25.26009921  3.70453431  2.5610954  21.32339286  7.87316068]\n"
          ]
        }
      ]
    },
    {
      "cell_type": "code",
      "source": [
        "print(sklearn.__version__)\n",
        "import sys\n",
        "print(sys.version)"
      ],
      "metadata": {
        "colab": {
          "base_uri": "https://localhost:8080/"
        },
        "id": "IR6S7ZpYs7Xs",
        "outputId": "f2b669ab-f4ce-4ae2-af1e-b1d7d37963d8"
      },
      "execution_count": 297,
      "outputs": [
        {
          "output_type": "stream",
          "name": "stdout",
          "text": [
            "1.2.2\n",
            "3.9.16 (main, Dec  7 2022, 01:11:51) \n",
            "[GCC 9.4.0]\n"
          ]
        }
      ]
    },
    {
      "cell_type": "markdown",
      "source": [
        "References \n",
        "\n",
        "1.   [Scikit-learn Documentation](https://scikit-learn.org/stable/modules/classes.html#module-sklearn.linear_model)\n",
        "2.   [Seaborn Documentation](https://seaborn.pydata.org/tutorial/introduction.html#:~:text=Seaborn%20helps%20you%20explore%20and,aggregation%20to%20produce%20informative%20plots.)\n",
        "3.   [Numpy Documentation](https://numpy.org/doc/stable/)\n",
        "4.   [Pandas Documentation](https://pandas.pydata.org/docs/)\n",
        "\n",
        "\n"
      ],
      "metadata": {
        "id": "1R2ThH9m559_"
      }
    }
  ]
}